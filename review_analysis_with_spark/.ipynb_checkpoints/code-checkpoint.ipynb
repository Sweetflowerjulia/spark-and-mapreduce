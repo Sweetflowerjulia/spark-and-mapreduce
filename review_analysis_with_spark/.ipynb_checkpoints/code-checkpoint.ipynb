{
 "cells": [
  {
   "cell_type": "markdown",
   "metadata": {},
   "source": [
    "# Online Review Analysis"
   ]
  },
  {
   "cell_type": "code",
   "execution_count": 1,
   "metadata": {},
   "outputs": [
    {
     "data": {
      "application/vnd.jupyter.widget-view+json": {
       "model_id": "9f7b3d5ef4cd4f8e89bd28cb7950693b",
       "version_major": 2,
       "version_minor": 0
      },
      "text/plain": [
       "VBox()"
      ]
     },
     "metadata": {},
     "output_type": "display_data"
    },
    {
     "name": "stdout",
     "output_type": "stream",
     "text": [
      "Starting Spark application\n"
     ]
    },
    {
     "data": {
      "text/html": [
       "<table>\n",
       "<tr><th>ID</th><th>YARN Application ID</th><th>Kind</th><th>State</th><th>Spark UI</th><th>Driver log</th><th>Current session?</th></tr><tr><td>0</td><td>application_1558511762013_0001</td><td>pyspark</td><td>idle</td><td><a target=\"_blank\" href=\"http://ip-172-31-30-123.ec2.internal:20888/proxy/application_1558511762013_0001/\">Link</a></td><td><a target=\"_blank\" href=\"http://ip-172-31-17-209.ec2.internal:8042/node/containerlogs/container_1558511762013_0001_01_000001/livy\">Link</a></td><td>✔</td></tr></table>"
      ],
      "text/plain": [
       "<IPython.core.display.HTML object>"
      ]
     },
     "metadata": {},
     "output_type": "display_data"
    },
    {
     "name": "stdout",
     "output_type": "stream",
     "text": [
      "SparkSession available as 'spark'.\n"
     ]
    }
   ],
   "source": [
    "#import related packages and library\n",
    "from pyspark.sql import SparkSession\n",
    "from pyspark.sql import types\n",
    "from pyspark.sql.types import StructType, StructField, StringType,IntegerType, FloatType\n",
    "from pyspark.sql import Row\n",
    "from pyspark.sql import functions as F\n",
    "from pyspark.ml.feature import Word2Vec\n",
    "\n",
    "import tensorflow as tf\n",
    "import tensorflow_hub as hub\n",
    "import numpy as np\n",
    "import nltk\n",
    "from nltk.tokenize import sent_tokenize\n",
    "import re\n",
    "from sklearn.metrics.pairwise import cosine_similarity"
   ]
  },
  {
   "cell_type": "code",
   "execution_count": 2,
   "metadata": {},
   "outputs": [
    {
     "data": {
      "application/vnd.jupyter.widget-view+json": {
       "model_id": "7d9ccaa18bd644fc87e66de3ee0b7e91",
       "version_major": 2,
       "version_minor": 0
      },
      "text/plain": [
       "VBox()"
      ]
     },
     "metadata": {},
     "output_type": "display_data"
    }
   ],
   "source": [
    "spark = SparkSession \\\n",
    "    .builder \\\n",
    "    .appName(\"Spark Text Encoder example\") \\\n",
    "    .config(\"spark.sql.shuffle.partitions\", \"100\")\\\n",
    "    .getOrCreate()"
   ]
  },
  {
   "cell_type": "markdown",
   "metadata": {},
   "source": [
    "## Load data from S3"
   ]
  },
  {
   "cell_type": "markdown",
   "metadata": {},
   "source": [
    "We use review data published by Amazon and releaed in S3 bucket. The data is published as tsv file with many columns. "
   ]
  },
  {
   "cell_type": "code",
   "execution_count": 3,
   "metadata": {},
   "outputs": [
    {
     "data": {
      "application/vnd.jupyter.widget-view+json": {
       "model_id": "f5ff3e61f02c4754b7e5755c425fa1c1",
       "version_major": 2,
       "version_minor": 0
      },
      "text/plain": [
       "VBox()"
      ]
     },
     "metadata": {},
     "output_type": "display_data"
    }
   ],
   "source": [
    "# import raw data\n",
    "rev_data = \"s3://amazon-reviews-pds/tsv/amazon_reviews_us_Music_v1_00.tsv.gz\"\n",
    "\n",
    "revs = spark.read.csv(rev_data,header=True,sep='\\t')\\\n",
    "            .select('customer_id','product_id','star_rating', 'review_id','review_body')"
   ]
  },
  {
   "cell_type": "markdown",
   "metadata": {},
   "source": [
    "### Overview of the raw data"
   ]
  },
  {
   "cell_type": "markdown",
   "metadata": {},
   "source": [
    "We show the first five rows of the data to inspect the format."
   ]
  },
  {
   "cell_type": "code",
   "execution_count": 4,
   "metadata": {},
   "outputs": [
    {
     "data": {
      "application/vnd.jupyter.widget-view+json": {
       "model_id": "bdb4fd18f2e849f5936b29ee25474558",
       "version_major": 2,
       "version_minor": 0
      },
      "text/plain": [
       "VBox()"
      ]
     },
     "metadata": {},
     "output_type": "display_data"
    },
    {
     "name": "stdout",
     "output_type": "stream",
     "text": [
      "+-----------+----------+-----------+--------------+--------------------+\n",
      "|customer_id|product_id|star_rating|     review_id|         review_body|\n",
      "+-----------+----------+-----------+--------------+--------------------+\n",
      "|   10140119|B00TXH4OLC|          5|R3LI5TRP3YIDQL|Love this CD alon...|\n",
      "|   27664622|B00B6QXN6U|          5|R3LGC3EKEG84PX|This is the album...|\n",
      "|   45946560|B001GCZXW6|          5| R9PYL3OYH55QY|  Excellent / thanks|\n",
      "|   15146326|B000003EK6|          3|R3PWBAWUS4NT0Q|Nice variety of c...|\n",
      "|   16794688|B00N1F0BKK|          5|R15LYP3O51UU9E|Purchased as a gi...|\n",
      "+-----------+----------+-----------+--------------+--------------------+\n",
      "only showing top 5 rows"
     ]
    }
   ],
   "source": [
    "revs.show(5)"
   ]
  },
  {
   "cell_type": "markdown",
   "metadata": {},
   "source": [
    "## Reviews by User, by Product"
   ]
  },
  {
   "cell_type": "markdown",
   "metadata": {},
   "source": [
    "### 1.1 The total number of reviews in the file."
   ]
  },
  {
   "cell_type": "code",
   "execution_count": 5,
   "metadata": {},
   "outputs": [
    {
     "data": {
      "application/vnd.jupyter.widget-view+json": {
       "model_id": "37a16f70f26a44a2926cbfa5ba202535",
       "version_major": 2,
       "version_minor": 0
      },
      "text/plain": [
       "VBox()"
      ]
     },
     "metadata": {},
     "output_type": "display_data"
    },
    {
     "name": "stdout",
     "output_type": "stream",
     "text": [
      "4751577"
     ]
    }
   ],
   "source": [
    "# show the count of lines\n",
    "revs.count()"
   ]
  },
  {
   "cell_type": "markdown",
   "metadata": {},
   "source": [
    "### 1.2 Unique Users"
   ]
  },
  {
   "cell_type": "markdown",
   "metadata": {},
   "source": [
    "The following cell demonstrates usage of the groupBy operation. We try to find the number of reviews of each publisher. The result is showed."
   ]
  },
  {
   "cell_type": "code",
   "execution_count": 6,
   "metadata": {},
   "outputs": [
    {
     "data": {
      "application/vnd.jupyter.widget-view+json": {
       "model_id": "af44c7bd156549339f512075e33fc78d",
       "version_major": 2,
       "version_minor": 0
      },
      "text/plain": [
       "VBox()"
      ]
     },
     "metadata": {},
     "output_type": "display_data"
    },
    {
     "name": "stdout",
     "output_type": "stream",
     "text": [
      "1940732"
     ]
    }
   ],
   "source": [
    "users_revs = revs.groupBy('customer_id').count().withColumnRenamed(\"count\", \"c_reviews\").cache()\n",
    "users_revs.count()"
   ]
  },
  {
   "cell_type": "markdown",
   "metadata": {},
   "source": [
    "#### 1.2.1 The total number of unique users."
   ]
  },
  {
   "cell_type": "code",
   "execution_count": 8,
   "metadata": {},
   "outputs": [
    {
     "data": {
      "application/vnd.jupyter.widget-view+json": {
       "model_id": "a34be64fbb8c4ed38c4604f507f7c435",
       "version_major": 2,
       "version_minor": 0
      },
      "text/plain": [
       "VBox()"
      ]
     },
     "metadata": {},
     "output_type": "display_data"
    },
    {
     "name": "stdout",
     "output_type": "stream",
     "text": [
      "1940732"
     ]
    }
   ],
   "source": [
    "users_revs.select('customer_id').distinct().count()"
   ]
  },
  {
   "cell_type": "markdown",
   "metadata": {},
   "source": [
    "#### 1.2.2 The top 10 users ranked by the number of reviews they publish."
   ]
  },
  {
   "cell_type": "markdown",
   "metadata": {},
   "source": [
    "We constract the number of reviews published by users with descending sort and show the top ten users."
   ]
  },
  {
   "cell_type": "code",
   "execution_count": 7,
   "metadata": {},
   "outputs": [
    {
     "data": {
      "application/vnd.jupyter.widget-view+json": {
       "model_id": "a2e37d2954cc48edb99db2837c90239a",
       "version_major": 2,
       "version_minor": 0
      },
      "text/plain": [
       "VBox()"
      ]
     },
     "metadata": {},
     "output_type": "display_data"
    },
    {
     "name": "stdout",
     "output_type": "stream",
     "text": [
      "+-----------+---------+\n",
      "|customer_id|c_reviews|\n",
      "+-----------+---------+\n",
      "|   50736950|     7168|\n",
      "|   38214553|     5412|\n",
      "|   51184997|     5369|\n",
      "|   18116317|     4222|\n",
      "|   23267387|     4023|\n",
      "|   50345651|     3793|\n",
      "|   14539589|     2896|\n",
      "|   15725862|     2842|\n",
      "|   19380211|     2592|\n",
      "|   20018062|     2568|\n",
      "+-----------+---------+\n",
      "only showing top 10 rows"
     ]
    }
   ],
   "source": [
    "users_revs.sort(\"c_reviews\",ascending=False).show(10)"
   ]
  },
  {
   "cell_type": "markdown",
   "metadata": {},
   "source": [
    "#### 1.2.3 The largest number and the median number of reviews published by a user"
   ]
  },
  {
   "cell_type": "markdown",
   "metadata": {},
   "source": [
    "We use summary function to extract the largest number of reviews which is the max number of reviews and the median number of reviews in which is 50 percent of total numbers."
   ]
  },
  {
   "cell_type": "code",
   "execution_count": 9,
   "metadata": {},
   "outputs": [
    {
     "data": {
      "application/vnd.jupyter.widget-view+json": {
       "model_id": "fc3934b4e5ee48f0bfa8b6a9ac7eef7e",
       "version_major": 2,
       "version_minor": 0
      },
      "text/plain": [
       "VBox()"
      ]
     },
     "metadata": {},
     "output_type": "display_data"
    },
    {
     "name": "stdout",
     "output_type": "stream",
     "text": [
      "+-------+------------------+\n",
      "|summary|         c_reviews|\n",
      "+-------+------------------+\n",
      "|  count|           1940732|\n",
      "|   mean|2.4483426871922553|\n",
      "| stddev|15.898599280984767|\n",
      "|    min|                 1|\n",
      "|    25%|                 1|\n",
      "|    50%|                 1|\n",
      "|    75%|                 2|\n",
      "|    max|              7168|\n",
      "+-------+------------------+"
     ]
    }
   ],
   "source": [
    "users_revs.select('c_reviews').summary().show()"
   ]
  },
  {
   "cell_type": "markdown",
   "metadata": {},
   "source": [
    "### 1.3 Unique Products"
   ]
  },
  {
   "cell_type": "markdown",
   "metadata": {},
   "source": [
    "The following cell demonstrates usage of the groupBy operation. We try to find the number of reviews of each product. The result is showed."
   ]
  },
  {
   "cell_type": "code",
   "execution_count": 10,
   "metadata": {},
   "outputs": [
    {
     "data": {
      "application/vnd.jupyter.widget-view+json": {
       "model_id": "0e973e836e304a20b9fe67eecf411aae",
       "version_major": 2,
       "version_minor": 0
      },
      "text/plain": [
       "VBox()"
      ]
     },
     "metadata": {},
     "output_type": "display_data"
    },
    {
     "name": "stdout",
     "output_type": "stream",
     "text": [
      "782326"
     ]
    }
   ],
   "source": [
    "product_revs = revs.groupBy('product_id').count().withColumnRenamed(\"count\", \"p_reviews\").cache()\n",
    "product_revs.count()"
   ]
  },
  {
   "cell_type": "markdown",
   "metadata": {},
   "source": [
    "#### 1.3.1 The number of unique products"
   ]
  },
  {
   "cell_type": "code",
   "execution_count": 11,
   "metadata": {},
   "outputs": [
    {
     "data": {
      "application/vnd.jupyter.widget-view+json": {
       "model_id": "adb9b43968fa473395874b44022f6964",
       "version_major": 2,
       "version_minor": 0
      },
      "text/plain": [
       "VBox()"
      ]
     },
     "metadata": {},
     "output_type": "display_data"
    },
    {
     "name": "stdout",
     "output_type": "stream",
     "text": [
      "782326"
     ]
    }
   ],
   "source": [
    "product_revs.select('product_id').distinct().count()"
   ]
  },
  {
   "cell_type": "markdown",
   "metadata": {},
   "source": [
    "#### 1.3.2 The top 10 products ranked by the number of reviews they have"
   ]
  },
  {
   "cell_type": "markdown",
   "metadata": {},
   "source": [
    "We constract the number of reviews belonging to each product with descending sort and show the top ten products."
   ]
  },
  {
   "cell_type": "code",
   "execution_count": 12,
   "metadata": {},
   "outputs": [
    {
     "data": {
      "application/vnd.jupyter.widget-view+json": {
       "model_id": "4ede52293c3349d4919c068a9f200f52",
       "version_major": 2,
       "version_minor": 0
      },
      "text/plain": [
       "VBox()"
      ]
     },
     "metadata": {},
     "output_type": "display_data"
    },
    {
     "name": "stdout",
     "output_type": "stream",
     "text": [
      "+----------+---------+\n",
      "|product_id|p_reviews|\n",
      "+----------+---------+\n",
      "|B00008OWZG|     3936|\n",
      "|B0000AGWEC|     3326|\n",
      "|B00MIA0KGY|     2699|\n",
      "|B00NEJ7MMI|     2420|\n",
      "|B000089RVX|     2376|\n",
      "|B004EBT5CU|     2106|\n",
      "|B0026P3G12|     2080|\n",
      "|B00009PRZF|     2026|\n",
      "|B00004XONN|     1901|\n",
      "|B00006J6VG|     1793|\n",
      "+----------+---------+\n",
      "only showing top 10 rows"
     ]
    }
   ],
   "source": [
    "product_revs_sort = product_revs.sort(\"p_reviews\",ascending=False)\n",
    "product_revs_sort.show(10)"
   ]
  },
  {
   "cell_type": "markdown",
   "metadata": {},
   "source": [
    "#### 1.3.3 The largest number and the median number of reviews a product has"
   ]
  },
  {
   "cell_type": "markdown",
   "metadata": {},
   "source": [
    "We use summary function to extract the largest number of reviews which is the max number of reviews and the median number of reviews in which is 50 percent of total numbers."
   ]
  },
  {
   "cell_type": "code",
   "execution_count": 13,
   "metadata": {},
   "outputs": [
    {
     "data": {
      "application/vnd.jupyter.widget-view+json": {
       "model_id": "1916f01eee794eb59c3dee665b81d9cf",
       "version_major": 2,
       "version_minor": 0
      },
      "text/plain": [
       "VBox()"
      ]
     },
     "metadata": {},
     "output_type": "display_data"
    },
    {
     "name": "stdout",
     "output_type": "stream",
     "text": [
      "+-------+------------------+\n",
      "|summary|         p_reviews|\n",
      "+-------+------------------+\n",
      "|  count|            782326|\n",
      "|   mean| 6.073653438592096|\n",
      "| stddev|25.781486507093998|\n",
      "|    min|                 1|\n",
      "|    25%|                 1|\n",
      "|    50%|                 2|\n",
      "|    75%|                 4|\n",
      "|    max|              3936|\n",
      "+-------+------------------+"
     ]
    }
   ],
   "source": [
    "product_revs.select('p_reviews').summary().show()"
   ]
  },
  {
   "cell_type": "markdown",
   "metadata": {},
   "source": [
    "## Number of review sentences"
   ]
  },
  {
   "cell_type": "markdown",
   "metadata": {},
   "source": [
    "### 2.1 Reviews published by users with less than median number of reviews published"
   ]
  },
  {
   "cell_type": "code",
   "execution_count": 14,
   "metadata": {},
   "outputs": [
    {
     "data": {
      "application/vnd.jupyter.widget-view+json": {
       "model_id": "17a4dcce3676494ca2c4e1323ef42e5d",
       "version_major": 2,
       "version_minor": 0
      },
      "text/plain": [
       "VBox()"
      ]
     },
     "metadata": {},
     "output_type": "display_data"
    },
    {
     "name": "stdout",
     "output_type": "stream",
     "text": [
      "+-----------+---------+\n",
      "|customer_id|c_reviews|\n",
      "+-----------+---------+\n",
      "|   16794688|        3|\n",
      "|   49997672|        5|\n",
      "|   15963400|        8|\n",
      "|   35087168|        2|\n",
      "|   47840769|        4|\n",
      "+-----------+---------+\n",
      "only showing top 5 rows"
     ]
    }
   ],
   "source": [
    "users_r = users_revs.filter(\"c_reviews > 1\")\n",
    "users_r.show(5)"
   ]
  },
  {
   "cell_type": "markdown",
   "metadata": {},
   "source": [
    "### 2.2 Reviews from products with less than median number of reviews received"
   ]
  },
  {
   "cell_type": "code",
   "execution_count": 15,
   "metadata": {},
   "outputs": [
    {
     "data": {
      "application/vnd.jupyter.widget-view+json": {
       "model_id": "ef3a620b292c4370a3b3621e91c3b124",
       "version_major": 2,
       "version_minor": 0
      },
      "text/plain": [
       "VBox()"
      ]
     },
     "metadata": {},
     "output_type": "display_data"
    },
    {
     "name": "stdout",
     "output_type": "stream",
     "text": [
      "+----------+---------+\n",
      "|product_id|p_reviews|\n",
      "+----------+---------+\n",
      "|B001MYIPWS|       43|\n",
      "|B00MRHANNI|     1513|\n",
      "|B000ROAL8U|       71|\n",
      "|B00000G1JD|       13|\n",
      "|B00SMMJBO4|       57|\n",
      "+----------+---------+\n",
      "only showing top 5 rows"
     ]
    }
   ],
   "source": [
    "product_r = product_revs.filter(\"p_reviews > 2\")\n",
    "product_r.show(5)"
   ]
  },
  {
   "cell_type": "markdown",
   "metadata": {},
   "source": [
    "### 2.3 Reviews with less than two sentences in the review body"
   ]
  },
  {
   "cell_type": "markdown",
   "metadata": {},
   "source": [
    "We use the sent_tokenize function to calculate the number of sentences of each review_body."
   ]
  },
  {
   "cell_type": "code",
   "execution_count": 16,
   "metadata": {},
   "outputs": [
    {
     "data": {
      "application/vnd.jupyter.widget-view+json": {
       "model_id": "4096ab6869424823bbd48037f3c0b041",
       "version_major": 2,
       "version_minor": 0
      },
      "text/plain": [
       "VBox()"
      ]
     },
     "metadata": {},
     "output_type": "display_data"
    }
   ],
   "source": [
    "join = revs.drop('star_rating','review_id')\\\n",
    "            .join(users_r, 'customer_id','inner')\\\n",
    "            .drop('c_reviews')\\\n",
    "            .join(product_r, 'product_id','inner')\\\n",
    "            .drop('p_reviews')"
   ]
  },
  {
   "cell_type": "code",
   "execution_count": 17,
   "metadata": {},
   "outputs": [
    {
     "data": {
      "application/vnd.jupyter.widget-view+json": {
       "model_id": "9420f81ef8274b1b8a4c32a59556b08d",
       "version_major": 2,
       "version_minor": 0
      },
      "text/plain": [
       "VBox()"
      ]
     },
     "metadata": {},
     "output_type": "display_data"
    }
   ],
   "source": [
    "def processReview(review_body):\n",
    "    if review_body is not None:\n",
    "        review_body = re.sub(r'[^A-Za-z0-9,.?! ]','',re.sub(r'<br />','',review_body))\n",
    "    return str(review_body)"
   ]
  },
  {
   "cell_type": "code",
   "execution_count": 18,
   "metadata": {},
   "outputs": [
    {
     "data": {
      "application/vnd.jupyter.widget-view+json": {
       "model_id": "e18e3d27983b4965bdd42127f4c59cbf",
       "version_major": 2,
       "version_minor": 0
      },
      "text/plain": [
       "VBox()"
      ]
     },
     "metadata": {},
     "output_type": "display_data"
    },
    {
     "name": "stdout",
     "output_type": "stream",
     "text": [
      "[Row(customer_id='13165145', n_sentence=8, product_id='1424338476'), Row(customer_id='40933981', n_sentence=5, product_id='1424338476'), Row(customer_id='22840380', n_sentence=4, product_id='1424338476'), Row(customer_id='52495199', n_sentence=6, product_id='B0000001NY'), Row(customer_id='39694876', n_sentence=4, product_id='B0000001NY')]"
     ]
    }
   ],
   "source": [
    "data = join.rdd.map(lambda x: types.Row(\n",
    "            customer_id = x.customer_id, \n",
    "            product_id = x.product_id,\n",
    "            n_sentence = len(sent_tokenize(processReview(x.review_body)))))\\\n",
    "            .filter(lambda x: x.n_sentence > 1)\n",
    "data.take(5)"
   ]
  },
  {
   "cell_type": "markdown",
   "metadata": {},
   "source": [
    "### 2.4 The result after removing the above"
   ]
  },
  {
   "cell_type": "code",
   "execution_count": 19,
   "metadata": {},
   "outputs": [
    {
     "data": {
      "application/vnd.jupyter.widget-view+json": {
       "model_id": "bc5b585542264a229fd10787f460652c",
       "version_major": 2,
       "version_minor": 0
      },
      "text/plain": [
       "VBox()"
      ]
     },
     "metadata": {},
     "output_type": "display_data"
    },
    {
     "name": "stdout",
     "output_type": "stream",
     "text": [
      "+-----------+----------+----------+\n",
      "|customer_id|n_sentence|product_id|\n",
      "+-----------+----------+----------+\n",
      "|   40933981|         5|1424338476|\n",
      "|   22840380|         4|1424338476|\n",
      "|   13165145|         8|1424338476|\n",
      "|   45351250|         3|B0000001NY|\n",
      "|   52495199|         6|B0000001NY|\n",
      "+-----------+----------+----------+\n",
      "only showing top 5 rows"
     ]
    }
   ],
   "source": [
    "new_revs = data.toDF().cache()\n",
    "new_revs.count()\n",
    "new_revs.show(5)"
   ]
  },
  {
   "cell_type": "markdown",
   "metadata": {},
   "source": [
    "We combine three dataframe and join them into a dataframe. The result is showed after filtering out the above reviews."
   ]
  },
  {
   "cell_type": "markdown",
   "metadata": {},
   "source": [
    "#### 2.4.1 Define functions to calculate the median number of sentences in the reviews"
   ]
  },
  {
   "cell_type": "code",
   "execution_count": 20,
   "metadata": {},
   "outputs": [
    {
     "data": {
      "application/vnd.jupyter.widget-view+json": {
       "model_id": "89b3b713de6e4f3faec3d22497fc01d6",
       "version_major": 2,
       "version_minor": 0
      },
      "text/plain": [
       "VBox()"
      ]
     },
     "metadata": {},
     "output_type": "display_data"
    }
   ],
   "source": [
    "def pairKToV(data):\n",
    "    return (data[0], [data[1]])\n",
    "\n",
    "def mergeValue(x,y):\n",
    "    x.extend(y)\n",
    "    return x\n",
    "\n",
    "def median(line):\n",
    "    key, value = line\n",
    "    value = int(np.median(value))\n",
    "    return (key, value)\n",
    "\n",
    "def sortVaule(line):\n",
    "    key,value = line\n",
    "    return value"
   ]
  },
  {
   "cell_type": "markdown",
   "metadata": {},
   "source": [
    "#### 2.4.2 Top 10 users ranked by median number of sentences in the reviews they have published;"
   ]
  },
  {
   "cell_type": "code",
   "execution_count": 21,
   "metadata": {},
   "outputs": [
    {
     "data": {
      "application/vnd.jupyter.widget-view+json": {
       "model_id": "ca0fdb51369d4ac5ad6fc7e74d38796b",
       "version_major": 2,
       "version_minor": 0
      },
      "text/plain": [
       "VBox()"
      ]
     },
     "metadata": {},
     "output_type": "display_data"
    }
   ],
   "source": [
    "user_rdd = new_revs.select('customer_id','n_sentence').rdd\\\n",
    "                    .map(pairKToV)\\\n",
    "                    .reduceByKey(mergeValue)\\\n",
    "                    .map(median)\\\n",
    "                    .sortBy(sortVaule,False)"
   ]
  },
  {
   "cell_type": "code",
   "execution_count": 22,
   "metadata": {},
   "outputs": [
    {
     "data": {
      "application/vnd.jupyter.widget-view+json": {
       "model_id": "b9241034452446c4a4d3a3d1dc33de48",
       "version_major": 2,
       "version_minor": 0
      },
      "text/plain": [
       "VBox()"
      ]
     },
     "metadata": {},
     "output_type": "display_data"
    },
    {
     "name": "stdout",
     "output_type": "stream",
     "text": [
      "+-----------+-----------------+\n",
      "|customer_id|median_n_sentence|\n",
      "+-----------+-----------------+\n",
      "|   25628286|              248|\n",
      "|   37118941|              227|\n",
      "|   51865782|              226|\n",
      "|   29580246|              200|\n",
      "|   50595705|              196|\n",
      "|   17821650|              183|\n",
      "|   43879820|              181|\n",
      "|   15585529|              177|\n",
      "|   23717536|              158|\n",
      "|   46097534|              154|\n",
      "+-----------+-----------------+\n",
      "only showing top 10 rows"
     ]
    }
   ],
   "source": [
    "df_user = user_rdd.toDF(['customer_id','median_n_sentence'])\n",
    "df_user.show(10)"
   ]
  },
  {
   "cell_type": "markdown",
   "metadata": {},
   "source": [
    "#### 2.4.3 Top 10 products ranked by median number of sentences in the reviews they have received;"
   ]
  },
  {
   "cell_type": "code",
   "execution_count": 23,
   "metadata": {},
   "outputs": [
    {
     "data": {
      "application/vnd.jupyter.widget-view+json": {
       "model_id": "cb4271e601f041058678aad47fcbe6e5",
       "version_major": 2,
       "version_minor": 0
      },
      "text/plain": [
       "VBox()"
      ]
     },
     "metadata": {},
     "output_type": "display_data"
    }
   ],
   "source": [
    "product_rdd = new_revs.select('product_id','n_sentence').rdd\\\n",
    "                    .map(pairKToV)\\\n",
    "                    .reduceByKey(mergeValue)\\\n",
    "                    .map(median)\\\n",
    "                    .sortBy(sortVaule,False)"
   ]
  },
  {
   "cell_type": "code",
   "execution_count": 24,
   "metadata": {},
   "outputs": [
    {
     "data": {
      "application/vnd.jupyter.widget-view+json": {
       "model_id": "2fcb44c122234de7b81f4e3526ffa352",
       "version_major": 2,
       "version_minor": 0
      },
      "text/plain": [
       "VBox()"
      ]
     },
     "metadata": {},
     "output_type": "display_data"
    },
    {
     "name": "stdout",
     "output_type": "stream",
     "text": [
      "+----------+-----------------+\n",
      "|product_id|median_n_sentence|\n",
      "+----------+-----------------+\n",
      "|B00LTQ5EVY|              984|\n",
      "|B000003G29|              319|\n",
      "|B00T7TYTCK|              252|\n",
      "|B000BCH5PK|              209|\n",
      "|B0000C0FEW|              205|\n",
      "|B0002IJNGC|              171|\n",
      "|B000RY431G|              166|\n",
      "|B0000020FQ|              162|\n",
      "|B009SF2GZU|              161|\n",
      "|B00AP5M4WM|              160|\n",
      "+----------+-----------------+\n",
      "only showing top 10 rows"
     ]
    }
   ],
   "source": [
    "df_product = product_rdd.toDF(['product_id','median_n_sentence'])\n",
    "df_product.show(10)"
   ]
  },
  {
   "cell_type": "markdown",
   "metadata": {},
   "source": [
    "## Similarity analysis with Sentence Embedding"
   ]
  },
  {
   "cell_type": "markdown",
   "metadata": {},
   "source": [
    "### 3.1 Positive reviews"
   ]
  },
  {
   "cell_type": "markdown",
   "metadata": {},
   "source": [
    "#### 3.1.1 Select positive review data"
   ]
  },
  {
   "cell_type": "code",
   "execution_count": 25,
   "metadata": {
    "scrolled": true
   },
   "outputs": [
    {
     "data": {
      "application/vnd.jupyter.widget-view+json": {
       "model_id": "e46220b207f64d098d6bbaedc731c28d",
       "version_major": 2,
       "version_minor": 0
      },
      "text/plain": [
       "VBox()"
      ]
     },
     "metadata": {},
     "output_type": "display_data"
    },
    {
     "name": "stdout",
     "output_type": "stream",
     "text": [
      "[Row(review_id='R3R7MRNK5HPULY', review_body=\"Good Charlotte's Hiatus in late 2009 made this album controversial in the sense that most of the band members were taking credit on the production of this record their best effort so far.\")]"
     ]
    }
   ],
   "source": [
    "# Filter the product_id = B00006J6VG from stage one and extract all reviews with rate four and above as positive \n",
    "# Select the review_id and review_body to create a new dataframe \n",
    "product_id = list(product_revs_sort.select(\"product_id\").take(10))\n",
    "positive = revs.filter(\"product_id = '%s' and star_rating >= 4\" % product_id[9][0])\\\n",
    "                .select(\"review_id\",\"review_body\")\n",
    "positive.take(1)"
   ]
  },
  {
   "cell_type": "code",
   "execution_count": 26,
   "metadata": {},
   "outputs": [
    {
     "data": {
      "application/vnd.jupyter.widget-view+json": {
       "model_id": "bcbe8891598f4c40a09baaa909cf83df",
       "version_major": 2,
       "version_minor": 0
      },
      "text/plain": [
       "VBox()"
      ]
     },
     "metadata": {},
     "output_type": "display_data"
    }
   ],
   "source": [
    "# Define a sentence segmentation function that will be used with map function below\n",
    "# segment sentences with nltk sent_tokenize function\n",
    "def sentence_segmentation(line):\n",
    "    review_id, review_body = line\n",
    "    review_body = sent_tokenize(review_body)\n",
    "    return types.Row(review_id = review_id,\n",
    "                     review_body = review_body)\n",
    "\n",
    "# convert dataframe to rdd format,\\\n",
    "# segment review texts into multiple sentences and map each sentence with review id using flatMap \n",
    "# clean the sentences (remove punctuations and special charactors) and filter empty string  \n",
    "# convert rdd into dataframe format\n",
    "def get_data_df(data):\n",
    "    data_df = data.rdd.map(sentence_segmentation)\\\n",
    "                .flatMap(lambda x: [(x.review_id, re.sub(r'[^A-Za-z,.?! ]','',re.sub(r'<br />','',t))) for t in x.review_body])\\\n",
    "                .filter(lambda x: x[1] is not '')\\\n",
    "                .toDF([\"review_id\",\"sentence\"])\n",
    "    return data_df"
   ]
  },
  {
   "cell_type": "code",
   "execution_count": 27,
   "metadata": {},
   "outputs": [
    {
     "data": {
      "application/vnd.jupyter.widget-view+json": {
       "model_id": "0488fbdf707d49099494f40dcaa60f60",
       "version_major": 2,
       "version_minor": 0
      },
      "text/plain": [
       "VBox()"
      ]
     },
     "metadata": {},
     "output_type": "display_data"
    },
    {
     "name": "stdout",
     "output_type": "stream",
     "text": [
      "+--------------+--------------------+\n",
      "|     review_id|            sentence|\n",
      "+--------------+--------------------+\n",
      "|R2VF8VV93YU5WX|A new begging is ...|\n",
      "|R2SBFGR3NQ98EX|I just wanna scre...|\n",
      "|R3OPD0QICE1VUJ|Ok well Good Char...|\n",
      "|R20W9X7H6YOEKC|I really like thi...|\n",
      "|R39NLSHHX99MNO|i give my props t...|\n",
      "+--------------+--------------------+\n",
      "only showing top 5 rows"
     ]
    }
   ],
   "source": [
    "# Extract positive review sentences with review id\n",
    "positive_data_df = get_data_df(positive).repartition(1000)\n",
    "positive_data_df.show(5)"
   ]
  },
  {
   "cell_type": "markdown",
   "metadata": {},
   "source": [
    "#### 3.1.2 Convert text to vectors"
   ]
  },
  {
   "cell_type": "code",
   "execution_count": 28,
   "metadata": {},
   "outputs": [
    {
     "data": {
      "application/vnd.jupyter.widget-view+json": {
       "model_id": "9bdb18a6c1ab40fe9816d2725680e169",
       "version_major": 2,
       "version_minor": 0
      },
      "text/plain": [
       "VBox()"
      ]
     },
     "metadata": {},
     "output_type": "display_data"
    }
   ],
   "source": [
    "# Define a function to convert text to vectors using tensorflow\n",
    "def review_embed(rev_text_partition):\n",
    "    module_url = \"https://tfhub.dev/google/universal-sentence-encoder/2\" \n",
    "    embed = hub.Module(module_url)\n",
    "    rev_text_list = [text for text in rev_text_partition]\n",
    "    with tf.Session() as session:\n",
    "        session.run([tf.global_variables_initializer(), tf.tables_initializer()])\n",
    "        embeddings = session.run(embed(rev_text_list))\n",
    "    return embeddings\n",
    "\n",
    "# convert texts to embeddings using mapPartitions together with tensorflow\n",
    "# only select review sentence column and convert to rdd format\n",
    "def get_sentence_embeddings(data_df):\n",
    "    embeddings = data_df.select(\"sentence\").rdd.map(lambda row: str(row)).mapPartitions(review_embed).cache()\n",
    "    return embeddings "
   ]
  },
  {
   "cell_type": "code",
   "execution_count": 10,
   "metadata": {},
   "outputs": [
    {
     "data": {
      "application/vnd.jupyter.widget-view+json": {
       "model_id": "30add343c06d4a4f800935e3d647a1e2",
       "version_major": 2,
       "version_minor": 0
      },
      "text/plain": [
       "VBox()"
      ]
     },
     "metadata": {},
     "output_type": "display_data"
    },
    {
     "name": "stdout",
     "output_type": "stream",
     "text": [
      "[array([-2.16722675e-03,  1.35801230e-02, -6.41393960e-02, -6.07020222e-02,\n",
      "       -4.73380387e-02, -3.45437117e-02,  1.12012094e-02,  2.75574643e-02,\n",
      "        4.56465967e-02,  5.55792376e-02,  7.59716406e-02, -4.37334888e-02,\n",
      "       -2.09210347e-02,  8.61330926e-02,  3.03803161e-02,  3.16098944e-04,\n",
      "       -7.79331177e-02,  2.45641414e-02,  6.12513535e-02, -2.20675785e-02,\n",
      "        4.34800871e-02, -8.60454962e-02,  3.92793268e-02,  2.74228621e-02,\n",
      "        1.74887441e-02,  5.07017672e-02, -4.83388826e-02, -3.73001844e-02,\n",
      "        1.24751106e-02, -2.57413406e-02,  3.22404914e-02,  7.06426576e-02,\n",
      "        1.97638236e-02, -1.39964307e-02,  6.49445057e-02, -2.41210684e-02,\n",
      "       -4.08982188e-02,  2.41026152e-02,  1.40444199e-02, -5.25969490e-02,\n",
      "        1.96626168e-02,  1.81780048e-02, -3.65597382e-02, -8.88614857e-04,\n",
      "       -7.92986527e-02,  3.66979949e-02,  1.32006826e-02, -5.46549112e-02,\n",
      "       -1.47038847e-02, -1.33299595e-02,  2.61292867e-02,  4.63009924e-02,\n",
      "       -3.33528519e-02,  2.42739394e-02,  4.44121100e-02,  6.61314577e-02,\n",
      "        5.13097793e-02, -6.56214058e-02, -6.10644259e-02, -1.95180494e-02,\n",
      "       -4.18573879e-02, -2.16426197e-02, -6.83375522e-02, -9.11449082e-03,\n",
      "        3.08705699e-02,  4.47300822e-03,  2.55421642e-03, -7.14732632e-02,\n",
      "        6.36000931e-02,  8.21179003e-02, -1.47322342e-02, -3.81528772e-02,\n",
      "       -4.00803685e-02,  4.11000997e-02,  5.31211942e-02,  5.93423806e-02,\n",
      "        8.71492997e-02,  4.47504856e-02, -7.13336915e-02,  4.72979620e-02,\n",
      "        1.16958013e-02,  7.77130201e-02,  2.40966622e-02,  2.17182301e-02,\n",
      "       -2.02030465e-02, -7.26692230e-02, -3.22082676e-02,  5.93312597e-03,\n",
      "        2.70523168e-02, -3.63844484e-02,  6.98304623e-02,  2.70143338e-02,\n",
      "        1.08357714e-02, -5.13214692e-02, -1.75540510e-03, -9.20559745e-03,\n",
      "        3.08947754e-03, -3.77208889e-02,  1.47906179e-02,  4.14966699e-03,\n",
      "        7.61703551e-02,  1.40149761e-02, -1.76334400e-02,  3.26991081e-02,\n",
      "        6.21633269e-02,  7.82172531e-02,  6.89628869e-02, -1.03414021e-02,\n",
      "       -8.69845599e-03, -2.58715246e-02, -6.06631897e-02, -7.16645420e-02,\n",
      "       -8.52110423e-03, -1.12679033e-02, -6.49046972e-02, -5.85023053e-02,\n",
      "       -6.70202151e-02, -3.06862425e-02, -6.78354055e-02, -3.43784802e-02,\n",
      "       -2.69988198e-02,  1.71468817e-02,  4.55237553e-02,  5.69771454e-02,\n",
      "        1.38779627e-02, -5.21539710e-02,  5.00591397e-02,  3.22303623e-02,\n",
      "        3.60683352e-02, -2.30017025e-02,  1.22662466e-02,  2.72952039e-02,\n",
      "        3.53798382e-02, -9.15986765e-03,  5.20195588e-02, -5.75372875e-02,\n",
      "       -8.69186297e-02,  5.83631396e-02,  2.11438164e-02, -4.58011031e-02,\n",
      "        7.90970400e-03, -6.15726821e-02, -2.60881707e-02, -8.71441960e-02,\n",
      "        4.82248375e-03, -4.59899604e-02,  3.37862298e-02,  2.38662120e-02,\n",
      "        1.91951357e-02,  3.84215936e-02,  2.69545857e-02, -3.83899510e-02,\n",
      "        2.48630941e-02, -7.95154925e-03, -5.43341637e-02, -7.82093480e-02,\n",
      "       -7.77504742e-02,  5.94247282e-02, -3.90932485e-02, -4.29211445e-02,\n",
      "       -2.14170404e-02, -2.41500977e-02, -7.89513532e-03, -4.01480086e-02,\n",
      "        8.63397941e-02, -2.97200568e-02,  8.58813599e-02,  1.19315460e-02,\n",
      "       -6.11266159e-02,  4.03341614e-02, -6.75320253e-02, -2.52445359e-02,\n",
      "       -1.52649535e-02, -6.94932789e-02,  8.66616592e-02, -5.83494827e-02,\n",
      "        6.12881705e-02,  9.72812530e-03, -3.67642418e-02,  6.12052828e-02,\n",
      "       -2.71327607e-03,  3.47599275e-02, -3.12995575e-02,  5.18682040e-02,\n",
      "        1.83857698e-02, -5.71626350e-02, -3.92815210e-02,  2.21824422e-02,\n",
      "        1.42841320e-02,  4.03525829e-02, -2.41211057e-02, -2.76803840e-02,\n",
      "       -6.99433908e-02,  3.56963389e-02,  2.74797622e-02, -1.55249136e-02,\n",
      "        1.96460560e-02,  2.65447665e-02,  5.76469973e-02,  5.18842228e-02,\n",
      "       -3.65459807e-02,  1.06176427e-02,  5.62560037e-02,  3.81572396e-02,\n",
      "        4.75144088e-02, -3.36285196e-02, -7.74263665e-02,  2.73870099e-02,\n",
      "        7.12410137e-02,  1.03973337e-02,  3.55846547e-02, -2.44285408e-02,\n",
      "       -2.84550786e-02,  3.05075087e-02,  4.06719409e-02, -6.16126135e-02,\n",
      "       -4.04365808e-02, -9.61876195e-03,  6.74662143e-02,  6.60096630e-02,\n",
      "        6.10759184e-02, -6.49020076e-03,  4.79684733e-02, -3.23546529e-02,\n",
      "       -2.33584531e-02, -2.04469580e-02, -4.83159423e-02, -5.59447035e-02,\n",
      "        5.08271009e-02, -2.48529315e-02, -1.51405716e-02, -9.06444900e-03,\n",
      "       -4.34356462e-03,  2.68207844e-02,  9.93521325e-03, -6.22766726e-02,\n",
      "       -6.12058640e-02, -3.35739069e-02,  1.51520241e-02,  3.91333252e-02,\n",
      "        7.21664727e-02, -3.65142040e-02,  5.03200777e-02,  7.03095570e-02,\n",
      "       -5.05345203e-02, -2.20386963e-02, -1.15189487e-02,  5.47783859e-02,\n",
      "       -1.56622566e-03, -2.86293938e-03, -4.40754704e-02, -7.94142634e-02,\n",
      "        4.09244522e-02,  1.13249924e-02,  9.72287264e-03, -3.24159069e-03,\n",
      "       -6.39844239e-02, -1.12157706e-02, -4.51366752e-02, -8.68075937e-02,\n",
      "        1.93667971e-02,  7.46822655e-02, -3.41268294e-02, -1.69344824e-02,\n",
      "        5.10405488e-02,  8.27258602e-02, -1.68205258e-02,  4.63162847e-02,\n",
      "        3.23738065e-03, -2.96634361e-02, -3.49620022e-02,  7.93275088e-02,\n",
      "       -5.25421835e-02, -5.80053143e-02, -5.94255887e-02, -3.93036865e-02,\n",
      "       -9.36487503e-03,  2.95537077e-02,  9.48511995e-03, -3.45546082e-02,\n",
      "       -6.56672418e-02, -4.65557575e-02,  2.47936752e-02, -4.14337106e-02,\n",
      "       -5.58901764e-02, -2.39056535e-02, -4.69837990e-03, -7.34660178e-02,\n",
      "        6.75444752e-02, -1.47817461e-02, -4.41450700e-02, -7.15453550e-02,\n",
      "       -6.59753894e-03, -4.85883243e-02,  5.85806705e-02,  8.51817131e-02,\n",
      "       -9.15385317e-03, -9.15362307e-06,  5.69029301e-02,  4.75195311e-02,\n",
      "        7.54549168e-03, -2.01763138e-02,  7.12617785e-02, -1.00077363e-02,\n",
      "       -7.07009621e-03,  6.21356145e-02, -4.03215401e-02,  2.22391393e-02,\n",
      "       -6.67532757e-02, -7.00061470e-02,  7.87477195e-03,  2.16952506e-02,\n",
      "        2.37399768e-02,  1.09327557e-02,  3.46931666e-02,  6.04739748e-02,\n",
      "        3.87614891e-02, -5.47216311e-02, -4.44368944e-02, -8.35464969e-02,\n",
      "        2.38988753e-02,  1.47186127e-02,  6.25295341e-02, -6.66472688e-02,\n",
      "       -3.51478197e-02, -3.46663781e-02,  3.61492522e-02, -1.70500167e-02,\n",
      "        4.28713486e-02, -4.69445549e-02,  1.19979968e-02, -4.02061678e-02,\n",
      "        1.69775542e-02, -5.17759658e-02,  2.89897621e-02, -4.13713306e-02,\n",
      "        4.43868078e-02,  4.06036004e-02,  1.79361261e-03, -5.75415343e-02,\n",
      "       -7.26153748e-03, -1.32989436e-02,  3.90220135e-02,  5.77653907e-02,\n",
      "        1.80075578e-02,  1.28070517e-02, -2.49013267e-02, -6.16456941e-03,\n",
      "       -5.53306006e-02,  2.78513990e-02,  4.55182642e-02, -1.25767123e-02,\n",
      "       -3.23393270e-02,  1.58426054e-02, -6.19809404e-02,  2.73657572e-02,\n",
      "       -6.35312200e-02, -2.27050520e-02,  8.62998664e-02, -5.63327670e-02,\n",
      "       -3.86827886e-02,  1.70164555e-02, -3.52760889e-02, -1.20966299e-03,\n",
      "        2.97513306e-02, -7.60215372e-02,  6.50404394e-03,  2.23162565e-02,\n",
      "        5.79114147e-02,  6.23583533e-02, -2.60207877e-02,  3.89296981e-03,\n",
      "        4.87794839e-02, -5.01560792e-02, -1.36547489e-02, -7.89942220e-02,\n",
      "        7.07276911e-02,  3.94995920e-02, -5.69707081e-02, -1.36723174e-02,\n",
      "        1.84162986e-02, -6.71362281e-02, -2.76021231e-02,  8.30470771e-03,\n",
      "        3.55396932e-03, -4.70431782e-02,  7.24804103e-02, -2.38003079e-02,\n",
      "       -8.29562172e-02,  2.23907847e-02, -5.34272641e-02, -5.43724708e-02,\n",
      "       -2.37268545e-02,  1.13387033e-02,  2.50798333e-02,  1.60214119e-02,\n",
      "       -1.76888388e-02,  2.92670261e-02, -3.72760817e-02, -3.89901325e-02,\n",
      "        5.13638221e-02,  5.75097911e-02,  3.28486972e-02, -7.80666023e-02,\n",
      "       -6.82078376e-02, -5.67653775e-02, -6.45037964e-02,  2.50712549e-03,\n",
      "        3.13549377e-02,  4.83438969e-02,  3.65767330e-02, -1.46754403e-02,\n",
      "       -6.43597022e-02,  3.70678380e-02, -2.60976814e-02, -5.89023009e-02,\n",
      "       -4.78502400e-02,  1.92909855e-02,  1.24132633e-02,  5.31339236e-02,\n",
      "        2.81803776e-02, -4.75451984e-02,  3.18572298e-02,  7.75845768e-03,\n",
      "       -7.86477048e-03, -2.39349045e-02,  2.38743853e-02, -5.75532159e-03,\n",
      "       -2.17472222e-02, -4.37312014e-03,  3.62843163e-02, -4.03720699e-02,\n",
      "        7.39177316e-02,  5.29915206e-02, -3.90247591e-02, -4.10688901e-03,\n",
      "        1.50605729e-02,  8.35891068e-02, -3.56136337e-02,  2.83738859e-02,\n",
      "        7.33193532e-02, -1.83655713e-02, -5.05537018e-02,  7.38179982e-02,\n",
      "       -1.19966699e-03, -3.26167680e-02,  2.87375022e-02,  6.86975047e-02,\n",
      "        1.00492295e-02, -5.88105097e-02,  7.42075071e-02, -1.65139437e-02,\n",
      "        1.29221810e-03,  6.07201224e-03, -1.42074237e-02, -7.59062767e-02,\n",
      "        2.09178030e-02,  2.92681120e-02, -2.13841703e-02,  7.75533468e-02,\n",
      "       -2.59300880e-03,  2.89270822e-02,  4.11361307e-02,  2.23676451e-02,\n",
      "        1.53535036e-02, -7.31014535e-02, -5.77101344e-03, -8.70847479e-02,\n",
      "       -2.50726212e-02,  1.12289935e-02,  1.76429190e-02, -1.31598506e-02,\n",
      "       -1.14945071e-02,  8.65471736e-02,  6.64600432e-02,  2.84282435e-02,\n",
      "       -2.65758466e-02,  7.01639727e-02, -6.52926713e-02, -3.19656841e-02,\n",
      "        6.52754903e-02, -2.93127814e-04,  7.57100806e-02,  3.09820473e-02,\n",
      "       -1.77931841e-02,  2.99445894e-02, -5.00982301e-03,  4.13837805e-02,\n",
      "       -1.81966256e-02, -4.10652859e-03, -7.69838691e-02,  6.45763427e-02,\n",
      "        1.76052377e-03,  8.20923075e-02,  2.96794903e-02,  3.24051641e-02,\n",
      "       -3.51034366e-02,  2.99813021e-02, -7.37136928e-03,  3.80322635e-02,\n",
      "       -5.63818682e-03, -1.18662091e-02, -2.63981484e-02, -2.53817514e-02,\n",
      "        8.70831832e-02, -4.23571728e-02,  5.81054166e-02, -5.95370866e-02,\n",
      "        4.73163277e-03, -2.75041163e-02,  1.77742261e-02,  2.85481522e-03],\n",
      "      dtype=float32)]"
     ]
    }
   ],
   "source": [
    "# Convert sentences into vectors\n",
    "positive_embeddings = get_sentence_embeddings(positive_data_df)\n",
    "positive_embeddings.take(1)"
   ]
  },
  {
   "cell_type": "markdown",
   "metadata": {},
   "source": [
    "#### 3.1.3 Create all posible sentence vector pairs"
   ]
  },
  {
   "cell_type": "code",
   "execution_count": 31,
   "metadata": {},
   "outputs": [
    {
     "data": {
      "application/vnd.jupyter.widget-view+json": {
       "model_id": "76bea1d7a07c43db94342a89135bdd49",
       "version_major": 2,
       "version_minor": 0
      },
      "text/plain": [
       "VBox()"
      ]
     },
     "metadata": {},
     "output_type": "display_data"
    }
   ],
   "source": [
    "# Create all possible vector pairs, return: index1_vector1 - index2_vector2 pairs\n",
    "def Create_vector_pairs(embeddings):  \n",
    "    n = embeddings.count()\n",
    "    vec_idx = embeddings.map(lambda v: v.tolist()).zipWithIndex() # add index to embedding rdd\n",
    "    vec_idx_1 = vec_idx.toDF(['vector_a','index1']).coalesce(100) # convert to dataframe\n",
    "    # map all possible index pairs between vectors\n",
    "    idx_pair = vec_idx.flatMap(lambda x: [(t,[x[1], x[0]]) for t in range(n-1) if t > x[1]])\n",
    "    vec_idx_pair = idx_pair.map(lambda x: (x[0], x[1][0], x[1][1])) # map key value pairs\n",
    "    vec_idx_2 = vec_idx_pair.toDF(['index1','index0', 'vector']) # convert to dataframe\n",
    "    vector_pairs = vec_idx_2.join(vec_idx_1, 'index1', 'inner') # join vectors using paired indices\n",
    "    return vector_pairs"
   ]
  },
  {
   "cell_type": "code",
   "execution_count": 76,
   "metadata": {
    "scrolled": false
   },
   "outputs": [
    {
     "data": {
      "application/vnd.jupyter.widget-view+json": {
       "model_id": "2aecaa7849654eff9e6f299191d963cb",
       "version_major": 2,
       "version_minor": 0
      },
      "text/plain": [
       "VBox()"
      ]
     },
     "metadata": {},
     "output_type": "display_data"
    },
    {
     "name": "stdout",
     "output_type": "stream",
     "text": [
      "+------+------+--------------------+--------------------+\n",
      "|index1|index0|              vector|            vector_a|\n",
      "+------+------+--------------------+--------------------+\n",
      "|   270|   174|[0.04034562036395...|[0.06719374656677...|\n",
      "|   270|   235|[0.05574147775769...|[0.06719374656677...|\n",
      "|   293|   149|[0.02960725314915...|[0.03029567562043...|\n",
      "|   222|    32|[0.00909040216356...|[0.02643903344869...|\n",
      "|   293|   268|[0.07378774136304...|[0.03029567562043...|\n",
      "+------+------+--------------------+--------------------+\n",
      "only showing top 5 rows"
     ]
    }
   ],
   "source": [
    "p_vector_pairs = Create_vector_pairs(positive_embeddings).repartition(1000)\n",
    "p_vector_pairs.show(5)"
   ]
  },
  {
   "cell_type": "markdown",
   "metadata": {},
   "source": [
    "#### 3.1.4 Calculate cosine distances of each sentence vector pairs"
   ]
  },
  {
   "cell_type": "code",
   "execution_count": 13,
   "metadata": {},
   "outputs": [
    {
     "data": {
      "application/vnd.jupyter.widget-view+json": {
       "model_id": "ce89d78241c34393b1e4d4d2eeb51aee",
       "version_major": 2,
       "version_minor": 0
      },
      "text/plain": [
       "VBox()"
      ]
     },
     "metadata": {},
     "output_type": "display_data"
    }
   ],
   "source": [
    "# Define a function to calculate cosine distance, return index pairs with calculated distance\n",
    "def calculate_cosine_distance(line):\n",
    "    index1,index0,vector0,vector1 = line \n",
    "    # convert vector to numpy array and reshape the vector\n",
    "    vector0 = np.array(vector0).reshape(1,np.array(vector0).shape[0])\n",
    "    vector1 = np.array(vector1).reshape(1,np.array(vector1).shape[0])\n",
    "    # calculate cosine distance between two vectors\n",
    "    cosine_distance = 1-cosine_similarity(vector0,vector1)\n",
    "    return (index0, index1, float(cosine_distance))"
   ]
  },
  {
   "cell_type": "code",
   "execution_count": 14,
   "metadata": {},
   "outputs": [
    {
     "data": {
      "application/vnd.jupyter.widget-view+json": {
       "model_id": "b2e26194f3b244e5b78991cdf30b8d8c",
       "version_major": 2,
       "version_minor": 0
      },
      "text/plain": [
       "VBox()"
      ]
     },
     "metadata": {},
     "output_type": "display_data"
    },
    {
     "name": "stdout",
     "output_type": "stream",
     "text": [
      "[(41, 1636, 0.5753198721058271), (1530, 1636, 0.8080835573178853), (1236, 1636, 0.9001891774222969), (725, 1636, 0.8196900275843757), (762, 1636, 0.6249230001518802)]"
     ]
    }
   ],
   "source": [
    "# Convert vector pairs into rdd format and calculate cosine distance using map function with user defined function above\n",
    "p_distance_pairs = p_vector_pairs.rdd.map(calculate_cosine_distance).repartition(1000).cache()\n",
    "p_distance_pairs.count()\n",
    "p_distance_pairs.take(5)"
   ]
  },
  {
   "cell_type": "markdown",
   "metadata": {},
   "source": [
    "#### 3.1.5 Calculate average distance of each sentence vector"
   ]
  },
  {
   "cell_type": "code",
   "execution_count": 15,
   "metadata": {},
   "outputs": [
    {
     "data": {
      "application/vnd.jupyter.widget-view+json": {
       "model_id": "c119589ed2de4992bbe97ad97465b895",
       "version_major": 2,
       "version_minor": 0
      },
      "text/plain": [
       "VBox()"
      ]
     },
     "metadata": {},
     "output_type": "display_data"
    }
   ],
   "source": [
    "# calculate average inside the map function\n",
    "def average(line): \n",
    "    key,value = line\n",
    "    value = np.mean(value)\n",
    "    return (key,value)\n",
    "\n",
    "# sum the values inside the reduceByKey function\n",
    "def mergeValue(x,y): \n",
    "    x.extend(y)\n",
    "    return x\n",
    " \n",
    "# Main function to calculate average distance\n",
    "# 1. flatMap index and distance value; \n",
    "# 2.reduce by index to calculate sum of the distance \n",
    "# 3. map to calculate average of the distance \n",
    "def Average_distance(vector_pairs):   \n",
    "    all_distances = vector_pairs.flatMap(lambda x: [(key, [x[2]]) for key in [x[0], x[1]]])\n",
    "    avg_distance = all_distances.reduceByKey(mergeValue).map(average)\n",
    "    return avg_distance"
   ]
  },
  {
   "cell_type": "code",
   "execution_count": 16,
   "metadata": {},
   "outputs": [
    {
     "data": {
      "application/vnd.jupyter.widget-view+json": {
       "model_id": "e54562992e4d4d5fa39bbc50316336da",
       "version_major": 2,
       "version_minor": 0
      },
      "text/plain": [
       "VBox()"
      ]
     },
     "metadata": {},
     "output_type": "display_data"
    },
    {
     "name": "stdout",
     "output_type": "stream",
     "text": [
      "[(7811, 0.6929154163259487), (4355, 0.5457921000166329), (2627, 0.7314162652081974), (8675, 0.6394836722994217), (4643, 0.8198567378104787)]"
     ]
    }
   ],
   "source": [
    "p_avg_distance = Average_distance(p_distance_pairs).repartition(1000)\n",
    "p_avg_distance.take(5)"
   ]
  },
  {
   "cell_type": "markdown",
   "metadata": {},
   "source": [
    "#### 3.1.6 Extract indexes of center point and top10 similar sentences based on average distances"
   ]
  },
  {
   "cell_type": "code",
   "execution_count": 17,
   "metadata": {},
   "outputs": [
    {
     "data": {
      "application/vnd.jupyter.widget-view+json": {
       "model_id": "f396644d7f784e04bd65795966c9d483",
       "version_major": 2,
       "version_minor": 0
      },
      "text/plain": [
       "VBox()"
      ]
     },
     "metadata": {},
     "output_type": "display_data"
    }
   ],
   "source": [
    "# 1.Sort average distances select the index of minimum value as center point; \n",
    "# 2.Filter out all distances with the center point;\n",
    "# 3.Sort by values and select 10 indices with smallest values;\n",
    "# Return center point index and top 10 closest indices. \n",
    "def Center_Top10_Index(distance_pairs, avg_distance):   \n",
    "\n",
    "    center_idx = avg_distance.sortBy(lambda x: x[1]).first()[0]\n",
    "    distances_from_center = distance_pairs.filter(lambda x: x[0]==center_idx or x[1]==center_idx)\\\n",
    "                                            .sortBy(lambda x: x[2])\n",
    "    # select top 10 indices\n",
    "    def top10_index(line):\n",
    "        if line[0] != center_idx:\n",
    "            idx = line[0]\n",
    "        if line[1] != center_idx:\n",
    "            idx = line[1]\n",
    "        return idx \n",
    "\n",
    "    top10_idx = distances_from_center.zipWithIndex().filter(lambda x:x[1]<10).keys().map(top10_index).collect()    \n",
    "\n",
    "    return center_idx, top10_idx"
   ]
  },
  {
   "cell_type": "code",
   "execution_count": 18,
   "metadata": {},
   "outputs": [
    {
     "data": {
      "application/vnd.jupyter.widget-view+json": {
       "model_id": "a768f17f8ce145699e084072ce03f3f3",
       "version_major": 2,
       "version_minor": 0
      },
      "text/plain": [
       "VBox()"
      ]
     },
     "metadata": {},
     "output_type": "display_data"
    },
    {
     "name": "stdout",
     "output_type": "stream",
     "text": [
      "Index of center sentences:  7846\n",
      "Indexes of top10 similar sentences [3824, 4116, 7444, 8730, 1174, 3212, 44, 6164, 4411, 9958]"
     ]
    }
   ],
   "source": [
    "p_center_idx, p_top10_idx = Center_Top10_Index(p_distance_pairs, p_avg_distance)\n",
    "print('Index of center sentences: ', p_center_idx)\n",
    "print('Indexes of top10 similar sentences', p_top10_idx)"
   ]
  },
  {
   "cell_type": "markdown",
   "metadata": {},
   "source": [
    "#### 3.1.7 Extract review sentences and corresponding review id based on index"
   ]
  },
  {
   "cell_type": "code",
   "execution_count": 19,
   "metadata": {},
   "outputs": [
    {
     "data": {
      "application/vnd.jupyter.widget-view+json": {
       "model_id": "ed0a769647314a608eba36f54c811bab",
       "version_major": 2,
       "version_minor": 0
      },
      "text/plain": [
       "VBox()"
      ]
     },
     "metadata": {},
     "output_type": "display_data"
    }
   ],
   "source": [
    "# Convert positive data into rdd format and add indices\n",
    "p_rdd = positive_data_df.rdd.zipWithIndex().cache() \n",
    "\n",
    "# Select review id and sentences from all positive data based on indices.\n",
    "positive_center = p_rdd.filter(lambda x:x[1] == p_center_idx).keys().collect()\n",
    "positive_similar_top10 = p_rdd.filter(lambda x:x[1] in p_top10_idx).keys().toDF([\"review_id\", \"review_sentence\"])"
   ]
  },
  {
   "cell_type": "markdown",
   "metadata": {},
   "source": [
    "#### 3.1.8 The results of positive reviews -Stage 3"
   ]
  },
  {
   "cell_type": "code",
   "execution_count": 21,
   "metadata": {},
   "outputs": [
    {
     "data": {
      "application/vnd.jupyter.widget-view+json": {
       "model_id": "c8989e8f90d745b7895130c00264c60f",
       "version_major": 2,
       "version_minor": 0
      },
      "text/plain": [
       "VBox()"
      ]
     },
     "metadata": {},
     "output_type": "display_data"
    },
    {
     "name": "stdout",
     "output_type": "stream",
     "text": [
      "POSITIVE - center sentence: \n",
      " --review_id--  ----review_sentence----\n",
      "R1QUF2LEOUW3NY The songs are so totally rad.\n",
      "+--------------+----------------------------------------------+\n",
      "|review_id     |review_sentence                               |\n",
      "+--------------+----------------------------------------------+\n",
      "|R32U2AEZWXU5X0|Almost all the songs on here are great.       |\n",
      "|R2USLMK3AI02O7|The songs are so fun and catchy.              |\n",
      "|R3FYTSF6HUXQAD|All their songs are awsome!!                  |\n",
      "|R27HL4EDA5S9D3|The songs are great.                          |\n",
      "|R3M3TEOCSKPLZW|The songs are great.                          |\n",
      "|R3OEA639KL4BNJ|Their music rocks and their songs are awesome.|\n",
      "|R2ZMZHGGKCH19V|and their other songs r so awesome!           |\n",
      "|R1ZAV0KB4C8FY5|The songs are all great!                      |\n",
      "|R2MOCYGXTDHVEE|its songs are amazing!                        |\n",
      "|R3OMI3V71OYD0Q|But theres some great songs so far.           |\n",
      "+--------------+----------------------------------------------+"
     ]
    }
   ],
   "source": [
    "# print out the center sentence of positive review\n",
    "print(\"POSITIVE - center sentence: \\n --review_id--  ----review_sentence----\")\n",
    "for center in positive_center:\n",
    "    print(center[0], center[1])\n",
    "\n",
    "# print out top10 similar centences     \n",
    "positive_similar_top10.show(truncate=False)"
   ]
  },
  {
   "cell_type": "markdown",
   "metadata": {},
   "source": [
    "### 3.2 Negative reviews"
   ]
  },
  {
   "cell_type": "markdown",
   "metadata": {},
   "source": [
    "#### 3.2.1 Select negative review data"
   ]
  },
  {
   "cell_type": "code",
   "execution_count": 24,
   "metadata": {
    "scrolled": true
   },
   "outputs": [
    {
     "data": {
      "application/vnd.jupyter.widget-view+json": {
       "model_id": "51fa8cc625454d698126532b05562ac4",
       "version_major": 2,
       "version_minor": 0
      },
      "text/plain": [
       "VBox()"
      ]
     },
     "metadata": {},
     "output_type": "display_data"
    },
    {
     "name": "stdout",
     "output_type": "stream",
     "text": [
      "[Row(review_id='R2F6WAB05QY47M', review_body='I would rather go get a coffee enema than sit through this formulaic mainstream bs. This is the garbage that Rolling Stone magazine and the record industry is peddling to the pimple faced emo kid who goes to buy the album from the band he just saw on MTV(sic).')]"
     ]
    }
   ],
   "source": [
    "# Filter the product_id = B00006J6VG from stage one and extract all reviews with rate two and below as negative\n",
    "# Select the review_id and review_body to create a new dataframe \n",
    "product_id = list(product_revs_sort.select(\"product_id\").take(10))\n",
    "negative = revs.filter(\"product_id = '%s' and star_rating <= 2\" % product_id[9][0])\\\n",
    "                .select(\"review_id\",\"review_body\")\n",
    "negative.take(1)"
   ]
  },
  {
   "cell_type": "code",
   "execution_count": 25,
   "metadata": {},
   "outputs": [
    {
     "data": {
      "application/vnd.jupyter.widget-view+json": {
       "model_id": "cb7a1df956d64b7c8fab22405c664e49",
       "version_major": 2,
       "version_minor": 0
      },
      "text/plain": [
       "VBox()"
      ]
     },
     "metadata": {},
     "output_type": "display_data"
    },
    {
     "name": "stdout",
     "output_type": "stream",
     "text": [
      "+--------------+--------------------+\n",
      "|     review_id|            sentence|\n",
      "+--------------+--------------------+\n",
      "|R2F6WAB05QY47M|I would rather go...|\n",
      "|R2F6WAB05QY47M|This is the garba...|\n",
      "|R2LKFD8AW9N76U|Im listening to t...|\n",
      "|R2LKFD8AW9N76U|If this was five ...|\n",
      "|R2LKFD8AW9N76U|That being said t...|\n",
      "+--------------+--------------------+\n",
      "only showing top 5 rows"
     ]
    }
   ],
   "source": [
    "# Extract negative review sentences with review id\n",
    "negative_data_df = get_data_df(negative)\n",
    "negative_data_df.show(5)"
   ]
  },
  {
   "cell_type": "markdown",
   "metadata": {},
   "source": [
    "#### 3.2.2 Convert text to vectors"
   ]
  },
  {
   "cell_type": "code",
   "execution_count": 26,
   "metadata": {
    "scrolled": true
   },
   "outputs": [
    {
     "data": {
      "application/vnd.jupyter.widget-view+json": {
       "model_id": "6c008219f85c4bd592a23d1aba04cf14",
       "version_major": 2,
       "version_minor": 0
      },
      "text/plain": [
       "VBox()"
      ]
     },
     "metadata": {},
     "output_type": "display_data"
    },
    {
     "name": "stdout",
     "output_type": "stream",
     "text": [
      "[array([ 0.03918048,  0.03105982,  0.03235339,  0.01579139, -0.02399617,\n",
      "        0.03708548, -0.03718183,  0.0382824 ,  0.00989581,  0.04228171,\n",
      "        0.03556698,  0.01481014, -0.01122175,  0.03181321,  0.03372408,\n",
      "        0.0145869 ,  0.0759725 ,  0.02310706,  0.01451915, -0.03981126,\n",
      "       -0.02837968, -0.01391553,  0.05004405,  0.0392571 ,  0.05040007,\n",
      "       -0.03248855, -0.03459056, -0.01369295,  0.07842439, -0.02500102,\n",
      "        0.0817729 , -0.0012256 ,  0.08245012, -0.07296173,  0.0755223 ,\n",
      "        0.00716521, -0.05865304, -0.01330853, -0.0327848 , -0.02093267,\n",
      "        0.04406163, -0.0459072 , -0.04588456,  0.0143362 , -0.04337143,\n",
      "        0.02115093,  0.0480163 , -0.05982846,  0.05947711, -0.03726853,\n",
      "       -0.04188664, -0.03226871, -0.03640187, -0.06396554,  0.05971521,\n",
      "        0.0502161 ,  0.03946881, -0.01615177,  0.06396203,  0.02251009,\n",
      "       -0.00783303, -0.0532188 , -0.07300755,  0.02608615, -0.03282412,\n",
      "        0.02758986,  0.01002579,  0.01320507,  0.01328125,  0.0710447 ,\n",
      "       -0.00519207, -0.07676181, -0.032101  , -0.03789005,  0.03960263,\n",
      "        0.07463878, -0.02983304, -0.0080419 , -0.03997955,  0.03856381,\n",
      "       -0.03971085,  0.02858915, -0.03272291, -0.0754275 , -0.01430728,\n",
      "       -0.05240246,  0.00577817,  0.00789209, -0.04094132, -0.05040392,\n",
      "        0.0005635 ,  0.05092273,  0.0144121 , -0.02718375, -0.03335064,\n",
      "       -0.05286707, -0.02020128,  0.02797601, -0.05376731,  0.01150075,\n",
      "        0.02581832, -0.03448933,  0.01283862,  0.01453252, -0.00367318,\n",
      "       -0.01619828,  0.06853461, -0.02219489, -0.00848186,  0.07784586,\n",
      "       -0.00273962,  0.03321911, -0.02691145,  0.07942636, -0.04118607,\n",
      "        0.01937414, -0.07229037, -0.06407889,  0.00326549, -0.03533713,\n",
      "       -0.02487647, -0.05624944,  0.0301278 ,  0.02761649, -0.04170518,\n",
      "       -0.00574309, -0.05857677, -0.05046405, -0.03898451,  0.03739126,\n",
      "       -0.05748602,  0.08385982, -0.03736741,  0.05711358,  0.07149517,\n",
      "       -0.01819307, -0.07782868,  0.05121398,  0.04782872, -0.02185625,\n",
      "       -0.04291764, -0.01130527, -0.03874053, -0.09412595, -0.02034282,\n",
      "        0.03724135,  0.02720235, -0.00125696, -0.06011932, -0.07801864,\n",
      "       -0.0174938 , -0.04922545,  0.06642406, -0.03986085,  0.04972612,\n",
      "       -0.02511535,  0.06120183,  0.04557431,  0.01600811, -0.05762082,\n",
      "       -0.03236518,  0.07562789,  0.02812445,  0.04942592,  0.0523102 ,\n",
      "       -0.0442238 ,  0.08444161, -0.015046  , -0.04889743,  0.00923725,\n",
      "        0.07128005, -0.00658594, -0.0255373 ,  0.02652508,  0.08178274,\n",
      "        0.07313332,  0.08818749,  0.05379836, -0.05973464,  0.02912469,\n",
      "        0.03206487,  0.07911456,  0.00084614,  0.01305722, -0.03221183,\n",
      "       -0.00538319, -0.05091449, -0.06701631, -0.02153883,  0.06843586,\n",
      "       -0.03196276, -0.00196636, -0.01765942,  0.05327243, -0.05091759,\n",
      "       -0.04682321,  0.03497011,  0.01854375,  0.03812109,  0.03362727,\n",
      "       -0.02554841,  0.04999842,  0.02328023,  0.0268242 ,  0.08400784,\n",
      "       -0.02711325, -0.07881182,  0.00340141,  0.00145807, -0.05191018,\n",
      "        0.05448135,  0.03952901,  0.035198  ,  0.05906763,  0.00776705,\n",
      "        0.02372837,  0.02550439,  0.03811254,  0.04188529, -0.03584132,\n",
      "        0.0380697 ,  0.04812115,  0.03396257, -0.0150474 ,  0.00117008,\n",
      "        0.03044799, -0.00922085,  0.05037492, -0.05557673, -0.04731795,\n",
      "       -0.06632233, -0.03314937,  0.00155697,  0.00068364,  0.00674611,\n",
      "        0.01575623,  0.03167874, -0.06877758, -0.01923416,  0.00342504,\n",
      "        0.06329606, -0.06696007,  0.00411658, -0.05385438, -0.00665717,\n",
      "       -0.02907724, -0.0440082 ,  0.00392076,  0.01576542, -0.01429433,\n",
      "        0.01822483,  0.03862378,  0.03628951, -0.05224593,  0.01470544,\n",
      "        0.06089999,  0.02706769, -0.02265791, -0.01543842,  0.00857081,\n",
      "       -0.00363304,  0.03928484,  0.0093656 , -0.07837518, -0.02914529,\n",
      "        0.05399595, -0.02033295, -0.07581165,  0.06509232, -0.01880061,\n",
      "       -0.03994654,  0.03529614,  0.03186675, -0.07229614, -0.04954907,\n",
      "        0.04110554,  0.00858423,  0.0939873 , -0.08486749,  0.06229089,\n",
      "        0.04703846, -0.01293232,  0.0166935 ,  0.00059267, -0.01661832,\n",
      "        0.04813535,  0.03623345,  0.03837611,  0.05735334,  0.01865824,\n",
      "        0.05368471, -0.0064455 ,  0.01825003, -0.01291046, -0.01727566,\n",
      "        0.05824651,  0.05570719, -0.01808155, -0.01354829,  0.00142363,\n",
      "       -0.07539036, -0.04078481,  0.06423471,  0.05731943, -0.03638654,\n",
      "        0.05011855,  0.05826891,  0.01105029,  0.03287853,  0.07448068,\n",
      "        0.07228015,  0.03740641, -0.05575275, -0.07436896,  0.00682203,\n",
      "        0.01420254,  0.02574198,  0.01645532, -0.02822249, -0.09420538,\n",
      "        0.04411025,  0.00346623,  0.04373947,  0.03091673,  0.02720367,\n",
      "       -0.04900762,  0.03356621, -0.01482456, -0.0040682 , -0.07274726,\n",
      "        0.06069181, -0.01617979,  0.01105076, -0.0034469 , -0.02643623,\n",
      "        0.00367895, -0.01962868,  0.0458246 ,  0.01615799, -0.03324319,\n",
      "        0.03109636,  0.09551124, -0.03017477,  0.05101825, -0.06955515,\n",
      "        0.02438613, -0.04824902,  0.01614307, -0.03256505,  0.07677958,\n",
      "       -0.07330885, -0.01909433, -0.02767381,  0.0363953 ,  0.06102712,\n",
      "       -0.02550634, -0.00792846, -0.02120228,  0.05671924, -0.04083472,\n",
      "        0.05007866, -0.00955668,  0.03328668,  0.0336012 , -0.03522593,\n",
      "        0.01184253, -0.05686685,  0.0390966 ,  0.03561866,  0.01602684,\n",
      "       -0.00366562, -0.07369383,  0.0785957 , -0.06320209, -0.03896475,\n",
      "        0.08789233,  0.08041314,  0.00896977, -0.03567601, -0.0793895 ,\n",
      "       -0.00148509,  0.02116953, -0.0183433 , -0.03004408,  0.02960717,\n",
      "        0.00987376,  0.04579835,  0.04799781, -0.08718566,  0.02238027,\n",
      "       -0.02441862,  0.0098854 , -0.06000629,  0.05664344,  0.0482425 ,\n",
      "        0.01234512,  0.00308157,  0.00950612,  0.08596262, -0.05872975,\n",
      "        0.06115805,  0.0741277 ,  0.04511879, -0.0945785 , -0.028675  ,\n",
      "        0.0248108 ,  0.04097441, -0.03797463, -0.0265892 ,  0.02431091,\n",
      "        0.06565988,  0.01791405,  0.00476851,  0.0540893 , -0.07768518,\n",
      "       -0.04381469,  0.01643385,  0.03873481, -0.01099685,  0.0415047 ,\n",
      "        0.01224757, -0.01896819, -0.04636243, -0.05209055, -0.05974794,\n",
      "        0.00232268,  0.08159693, -0.02369856,  0.02896221,  0.0435673 ,\n",
      "        0.04108451,  0.06555226,  0.09313747,  0.07476733, -0.01525891,\n",
      "        0.02083746, -0.02853627, -0.07037018, -0.00574962,  0.05070594,\n",
      "       -0.00749712, -0.04998951,  0.01056281,  0.07585257,  0.036076  ,\n",
      "       -0.01939132, -0.06752591,  0.06408978,  0.02154762,  0.03274829,\n",
      "        0.02819057,  0.02253445,  0.00247717,  0.00154298, -0.01877654,\n",
      "        0.0052163 ,  0.03916962,  0.06116226, -0.06479672, -0.00345124,\n",
      "       -0.00268896,  0.01648983, -0.03317612,  0.03614584,  0.10008438,\n",
      "       -0.08444442,  0.05885563, -0.00633669, -0.03238355,  0.059977  ,\n",
      "        0.01902805, -0.02699364, -0.04501327,  0.03260102,  0.02323953,\n",
      "        0.03865651, -0.04847753,  0.06241236, -0.04969624, -0.06387737,\n",
      "        0.08595781,  0.05731221, -0.01875577, -0.02760738,  0.01457122,\n",
      "       -0.0765333 ,  0.02743438,  0.02440968, -0.04819668,  0.0059084 ,\n",
      "       -0.0287771 ,  0.01100493, -0.05833936,  0.02253485, -0.02011415,\n",
      "       -0.03747015, -0.05490617, -0.04538172,  0.00769798,  0.02555703,\n",
      "       -0.04177497, -0.04963706, -0.0037643 ,  0.04554338,  0.06989074,\n",
      "       -0.02907922,  0.01105072, -0.04317529,  0.03289357,  0.07164611,\n",
      "       -0.04777525,  0.00650015], dtype=float32)]"
     ]
    }
   ],
   "source": [
    "# Convert sentences into vectors\n",
    "negative_embeddings = get_sentence_embeddings(negative_data_df)\n",
    "negative_embeddings.take(1)"
   ]
  },
  {
   "cell_type": "markdown",
   "metadata": {},
   "source": [
    "#### 3.2.3 Create all posible sentence vector pairs"
   ]
  },
  {
   "cell_type": "code",
   "execution_count": 27,
   "metadata": {},
   "outputs": [
    {
     "data": {
      "application/vnd.jupyter.widget-view+json": {
       "model_id": "e3d5bb4875124e6d866aeeef77848df1",
       "version_major": 2,
       "version_minor": 0
      },
      "text/plain": [
       "VBox()"
      ]
     },
     "metadata": {},
     "output_type": "display_data"
    },
    {
     "name": "stdout",
     "output_type": "stream",
     "text": [
      "+------+------+--------------------+--------------------+\n",
      "|index1|index0|              vector|            vector_a|\n",
      "+------+------+--------------------+--------------------+\n",
      "|  1289|  1110|[-0.0205773524940...|[0.03598988428711...|\n",
      "|  1289|   216|[0.03776592761278...|[0.03598988428711...|\n",
      "|  2515|   479|[-0.0095890052616...|[-0.0074121477082...|\n",
      "|   228|   101|[-0.0052495957352...|[-0.0397398769855...|\n",
      "|   274|    22|[0.04166766256093...|[-0.0104109682142...|\n",
      "+------+------+--------------------+--------------------+\n",
      "only showing top 5 rows"
     ]
    }
   ],
   "source": [
    "n_vector_pairs = Create_vector_pairs(negative_embeddings).repartition(1000)\n",
    "n_vector_pairs.show(5)"
   ]
  },
  {
   "cell_type": "markdown",
   "metadata": {},
   "source": [
    "#### 3.2.4 Calculate cosine distances of each sentence vector pairs"
   ]
  },
  {
   "cell_type": "code",
   "execution_count": 50,
   "metadata": {},
   "outputs": [
    {
     "data": {
      "application/vnd.jupyter.widget-view+json": {
       "model_id": "60618724029c44a8837e8ce3ee5e2b55",
       "version_major": 2,
       "version_minor": 0
      },
      "text/plain": [
       "VBox()"
      ]
     },
     "metadata": {},
     "output_type": "display_data"
    },
    {
     "name": "stdout",
     "output_type": "stream",
     "text": [
      "[(214, 487, 0.9181180023957322), (1596, 2706, 0.7323821704009261), (1519, 2323, 0.5459362687151805), (783, 823, 0.9301455548585617), (1601, 2828, 0.8547286859674169)]"
     ]
    }
   ],
   "source": [
    "# Convert vector pairs into rdd format and calculate cosine distance using map function with user defined function above\n",
    "n_distance_pairs = n_vector_pairs.rdd.map(calculate_cosine_distance).repartition(1000)\n",
    "n_distance_pairs.take(5)"
   ]
  },
  {
   "cell_type": "markdown",
   "metadata": {},
   "source": [
    "#### 3.2.5 Calculate average distance of each sentence vector"
   ]
  },
  {
   "cell_type": "code",
   "execution_count": 29,
   "metadata": {},
   "outputs": [
    {
     "data": {
      "application/vnd.jupyter.widget-view+json": {
       "model_id": "db3ed0062ee74899bd4f3ee9deafe2c0",
       "version_major": 2,
       "version_minor": 0
      },
      "text/plain": [
       "VBox()"
      ]
     },
     "metadata": {},
     "output_type": "display_data"
    },
    {
     "name": "stdout",
     "output_type": "stream",
     "text": [
      "[(2003, 0.7302155212502809), (2867, 0.6318418534381124), (563, 0.5851419175200856), (2625, 0.7975127724099806), (897, 0.6211570917270516)]"
     ]
    }
   ],
   "source": [
    "n_avg_distance = Average_distance(n_distance_pairs).repartition(1000)\n",
    "n_avg_distance.take(5)"
   ]
  },
  {
   "cell_type": "markdown",
   "metadata": {},
   "source": [
    "#### 3.2.6 Extract indexes of center point and top10 similar sentences based on average distances"
   ]
  },
  {
   "cell_type": "code",
   "execution_count": 30,
   "metadata": {},
   "outputs": [
    {
     "data": {
      "application/vnd.jupyter.widget-view+json": {
       "model_id": "1cb637d46ce34c1d979b810068a9636e",
       "version_major": 2,
       "version_minor": 0
      },
      "text/plain": [
       "VBox()"
      ]
     },
     "metadata": {},
     "output_type": "display_data"
    },
    {
     "name": "stdout",
     "output_type": "stream",
     "text": [
      "Index of center sentences:  2331\n",
      "Indices of top10 similar sentences [1760, 2886, 1320, 980, 1919, 34, 1097, 1823, 2887, 441]"
     ]
    }
   ],
   "source": [
    "n_center_idx, n_top10_idx = Center_Top10_Index(n_distance_pairs, n_avg_distance)\n",
    "print('Index of center sentences: ', n_center_idx)\n",
    "print('Indices of top10 similar sentences', n_top10_idx)"
   ]
  },
  {
   "cell_type": "markdown",
   "metadata": {},
   "source": [
    "#### 3.2.7 Extract review sentences and corresponding review id based on index"
   ]
  },
  {
   "cell_type": "code",
   "execution_count": 31,
   "metadata": {},
   "outputs": [
    {
     "data": {
      "application/vnd.jupyter.widget-view+json": {
       "model_id": "de25bc2097764c4b83326a08c7cadc3f",
       "version_major": 2,
       "version_minor": 0
      },
      "text/plain": [
       "VBox()"
      ]
     },
     "metadata": {},
     "output_type": "display_data"
    }
   ],
   "source": [
    "# Convert positive data into rdd format and add indices\n",
    "n_rdd = negative_data_df.rdd.zipWithIndex().cache() \n",
    "\n",
    "# Select review id and sentences from all positive data based on indices.\n",
    "negative_center = n_rdd.filter(lambda x:x[1] == n_center_idx).keys().collect()\n",
    "negative_similar_top10 = n_rdd.filter(lambda x:x[1] in n_top10_idx).keys().toDF([\"review_id\", \"review_sentence\"])"
   ]
  },
  {
   "cell_type": "markdown",
   "metadata": {},
   "source": [
    "#### 3.2.8 The results of negative reviews -Stage 3"
   ]
  },
  {
   "cell_type": "code",
   "execution_count": 32,
   "metadata": {},
   "outputs": [
    {
     "data": {
      "application/vnd.jupyter.widget-view+json": {
       "model_id": "c26179b726354c02b6fe111fd687b0df",
       "version_major": 2,
       "version_minor": 0
      },
      "text/plain": [
       "VBox()"
      ]
     },
     "metadata": {},
     "output_type": "display_data"
    },
    {
     "name": "stdout",
     "output_type": "stream",
     "text": [
      "NEGATIVE - center sentence: \n",
      " --review_id--  ----review_sentence----\n",
      "R3MGK1ZXH61TIS its not even poppunk.\n",
      "+--------------+-----------------------------------------------------------------------------------------------------------+\n",
      "|review_id     |review_sentence                                                                                            |\n",
      "+--------------+-----------------------------------------------------------------------------------------------------------+\n",
      "|R2L59UF4845DWY|But there are also a lot of bands in this genre, that are almost as bad as Good Charlotte.                 |\n",
      "|R3UKZ7D8HCZFM |It is pop punk and i despise pop punk.                                                                     |\n",
      "|R10EFJ8V3F35IC|They are the ones to be repsect, not the immitators like this band is!I hate Good Charlotte with a passion.|\n",
      "|R38HLY2JJ8UX9Q|They are one of the worst bands i have ever heard along with simple plan and new found glory.              |\n",
      "|R34EYTYWCR0SBL|I dont hate poppunk at all.                                                                                |\n",
      "|R1V5HHKRJNWUQM|There not even poppunk, there not even pop, there krap.                                                    |\n",
      "|R26GZ52ZCK961P|Good Charlotte is one of the worst bands out now.                                                          |\n",
      "|R3DU2U6HRUDGS0|ALL THE PREPPY PEOPLE LIKE THIS BAND.                                                                      |\n",
      "|R3QG1GKJO8IL4K|Due to popular beleif, good charlotte are in no way punk.                                                  |\n",
      "|R3QG1GKJO8IL4K|At the most you could call them poppunk.                                                                   |\n",
      "+--------------+-----------------------------------------------------------------------------------------------------------+"
     ]
    }
   ],
   "source": [
    "# print out the center sentence of negative review\n",
    "print(\"NEGATIVE - center sentence: \\n --review_id--  ----review_sentence----\")\n",
    "for center in negative_center:\n",
    "    print(center[0], center[1])\n",
    "\n",
    "# print out top10 similar centences     \n",
    "negative_similar_top10.show(truncate=False)"
   ]
  },
  {
   "cell_type": "markdown",
   "metadata": {},
   "source": [
    "## Similarity analysis with Spark Word2Vec"
   ]
  },
  {
   "cell_type": "markdown",
   "metadata": {},
   "source": [
    "### Spark Word2Vec\n",
    "#### Combine positive and negative review sentences as training data of word2vec model."
   ]
  },
  {
   "cell_type": "code",
   "execution_count": 28,
   "metadata": {},
   "outputs": [
    {
     "data": {
      "application/vnd.jupyter.widget-view+json": {
       "model_id": "2a956e3836d64eba9c0140bccb9f76bc",
       "version_major": 2,
       "version_minor": 0
      },
      "text/plain": [
       "VBox()"
      ]
     },
     "metadata": {},
     "output_type": "display_data"
    },
    {
     "name": "stdout",
     "output_type": "stream",
     "text": [
      "+--------------------+\n",
      "|              tokens|\n",
      "+--------------------+\n",
      "|[Gotta, love, moc...|\n",
      "|[If, you, like, g...|\n",
      "|[Thats, what, the...|\n",
      "|[Id, suggest, get...|\n",
      "|[there, music, is...|\n",
      "+--------------------+\n",
      "only showing top 5 rows"
     ]
    }
   ],
   "source": [
    "# Tokenize positive sentences\n",
    "positive_tokens = positive_data_df.select(\"sentence\") \\\n",
    "                    .withColumn(\"tokens\", F.array_remove(F.split(positive_data_df.sentence, \" \"), ''))\\\n",
    "                    .select(\"tokens\")\n",
    "# Tokenize negative sentences\n",
    "negative_tokens = negative_data_df.select(\"sentence\") \\\n",
    "                    .withColumn(\"tokens\", F.array_remove(F.split(negative_data_df.sentence, \" \"), ''))\\\n",
    "                    .select(\"tokens\")\n",
    "# Combine positive and negative tokens \n",
    "all_tokens = positive_tokens.union(negative_tokens)\n",
    "all_tokens.show(5)"
   ]
  },
  {
   "cell_type": "markdown",
   "metadata": {},
   "source": [
    "#### Training Word2Vec Model"
   ]
  },
  {
   "cell_type": "code",
   "execution_count": 29,
   "metadata": {},
   "outputs": [
    {
     "data": {
      "application/vnd.jupyter.widget-view+json": {
       "model_id": "c2b3d78fd6a74b47a0be84a2eabe87aa",
       "version_major": 2,
       "version_minor": 0
      },
      "text/plain": [
       "VBox()"
      ]
     },
     "metadata": {},
     "output_type": "display_data"
    }
   ],
   "source": [
    "# Learn a mapping from words to vectors using Spark built in Word2Vec package\n",
    "word2vec = Word2Vec(vectorSize=300, inputCol=\"tokens\", outputCol=\"vectors\")\n",
    "w2v_model = word2vec.fit(all_tokens)"
   ]
  },
  {
   "cell_type": "markdown",
   "metadata": {},
   "source": [
    "### 4.1 Positive Reviews"
   ]
  },
  {
   "cell_type": "markdown",
   "metadata": {},
   "source": [
    "#### 4.1.1 Use the positive data tokenized in the previous section."
   ]
  },
  {
   "cell_type": "markdown",
   "metadata": {},
   "source": [
    "#### 4.1.2 Convert review sentences into vectors using Word2Vec"
   ]
  },
  {
   "cell_type": "code",
   "execution_count": 30,
   "metadata": {
    "scrolled": true
   },
   "outputs": [
    {
     "data": {
      "application/vnd.jupyter.widget-view+json": {
       "model_id": "01615eb528cf40d19e6a3e6bb0c1249e",
       "version_major": 2,
       "version_minor": 0
      },
      "text/plain": [
       "VBox()"
      ]
     },
     "metadata": {},
     "output_type": "display_data"
    },
    {
     "name": "stdout",
     "output_type": "stream",
     "text": [
      "[array([ 3.63519285e-02, -5.77875241e-03,  1.65805502e-02,  5.03333164e-03,\n",
      "        1.15673000e-02,  3.08192484e-03, -8.01540338e-03, -3.85059640e-02,\n",
      "        6.31333515e-03,  1.47057926e-02, -1.59396507e-02,  4.74832701e-03,\n",
      "       -2.84482211e-02, -6.25622962e-03,  1.01936368e-02,  1.01769037e-02,\n",
      "       -1.81037342e-02, -2.43037464e-03,  1.94003641e-02,  2.12085394e-02,\n",
      "       -5.09521663e-03, -1.01973064e-02,  1.26099032e-02,  2.02603471e-02,\n",
      "       -1.11511819e-02,  1.90538198e-02,  7.44140348e-03, -7.64141195e-03,\n",
      "       -2.21740372e-02, -9.33796149e-03,  2.82737277e-03, -1.12647215e-02,\n",
      "       -5.03928196e-03,  2.88877971e-03,  2.75453828e-02, -5.03110037e-02,\n",
      "       -8.88692737e-03,  2.08724383e-02, -2.14774642e-02, -1.96734097e-02,\n",
      "       -4.91627641e-03, -6.89913840e-03,  2.23920759e-02,  4.79810406e-04,\n",
      "       -2.99670090e-02, -9.77530722e-03,  1.42662827e-02,  2.47128502e-02,\n",
      "        2.06708552e-02, -2.90772542e-03,  7.86442086e-03, -2.74854298e-03,\n",
      "        5.82515299e-03, -8.33579227e-03,  7.08431378e-04, -2.39105621e-02,\n",
      "        1.94730836e-02, -9.51942764e-03,  2.26260386e-03, -5.95807972e-03,\n",
      "        1.46162009e-02, -4.17750254e-03,  8.23368616e-03,  2.42733136e-03,\n",
      "       -6.88550547e-03,  5.03065102e-03, -5.51797226e-03,  9.77802007e-03,\n",
      "       -1.98089334e-02, -1.85503803e-02,  5.90420514e-04, -5.58715304e-03,\n",
      "        8.71859491e-03,  1.39204040e-04,  1.98694733e-03,  3.61201258e-02,\n",
      "       -8.26359708e-03,  2.93741565e-02,  5.21352638e-03, -1.47702619e-03,\n",
      "       -1.54376633e-02,  2.38195922e-02,  2.58250842e-02, -7.51622207e-04,\n",
      "       -2.97783623e-02,  2.85009839e-02, -2.40071421e-04, -1.11454031e-02,\n",
      "       -3.09323700e-02, -4.00090273e-03, -1.85454374e-02, -9.20652077e-03,\n",
      "       -1.13631742e-02, -1.84256560e-02,  1.19494928e-02,  4.74503078e-03,\n",
      "       -1.41269224e-02,  1.33489445e-04, -1.59819569e-02, -6.09071143e-03,\n",
      "       -1.48943856e-02,  1.28474351e-02,  2.73372261e-03, -6.11855560e-03,\n",
      "       -1.49513315e-03,  2.03603169e-02,  1.53250752e-02, -1.62779982e-02,\n",
      "       -3.39188306e-03,  3.54645140e-03,  1.11979455e-02, -2.08159449e-02,\n",
      "       -7.58598074e-03,  1.21231191e-02, -3.55205728e-02, -1.18878833e-03,\n",
      "        1.35635212e-04,  6.39638314e-03, -1.93521518e-02,  6.56279507e-03,\n",
      "        3.64284962e-05, -2.74564378e-02,  1.53196503e-02, -5.99387138e-03,\n",
      "        1.73218525e-02, -1.01161340e-02, -1.37653900e-02, -7.09197707e-03,\n",
      "       -2.70361951e-02, -9.42006931e-03, -1.22801821e-02, -6.44354336e-03,\n",
      "        1.27777480e-02,  6.72192872e-04,  1.30343147e-02,  1.24962818e-02,\n",
      "       -3.44506949e-03, -9.65914445e-03,  8.40946548e-03, -3.97892296e-03,\n",
      "       -3.18721570e-03, -7.93138053e-03, -6.93183895e-03,  8.14283115e-03,\n",
      "       -1.35283280e-02,  1.39987264e-02,  1.94423498e-02,  2.26936750e-03,\n",
      "       -2.69469585e-02,  2.86064778e-02, -2.75007918e-02, -3.44169623e-02,\n",
      "        1.50448189e-02,  1.77596688e-02, -5.88516891e-03,  2.87107989e-02,\n",
      "        1.21395253e-03,  9.89931738e-03, -1.66990383e-02, -2.98138522e-02,\n",
      "        8.50959942e-03, -1.32085681e-03, -1.18233726e-02, -1.51220086e-02,\n",
      "        1.95389947e-02,  1.65496968e-02, -4.07512365e-02, -9.97617850e-03,\n",
      "       -2.50953339e-02,  2.55534791e-02, -7.10387062e-03,  2.72948939e-02,\n",
      "        8.12721178e-03, -5.40570393e-03,  1.68552868e-02, -8.91433887e-03,\n",
      "        9.69163059e-03, -2.86071783e-02, -5.30701708e-03,  3.09365410e-03,\n",
      "       -5.02106622e-03, -1.86219709e-02,  1.50471212e-02, -7.04445201e-04,\n",
      "        4.98893030e-02, -3.79751761e-02, -1.65000556e-02, -1.68949258e-02,\n",
      "       -3.45425159e-03, -1.86719078e-02, -2.52367947e-03, -1.94363661e-02,\n",
      "       -2.41330734e-02,  2.81390781e-02, -2.42692530e-03,  5.69861397e-03,\n",
      "       -3.13846322e-02,  1.35698612e-02,  8.17182064e-03,  1.88966712e-02,\n",
      "       -2.40752244e-02,  1.47226021e-02, -5.43904188e-03, -1.08339731e-02,\n",
      "        2.55103696e-02, -1.22356357e-02,  4.77466900e-03,  1.13914538e-02,\n",
      "       -1.87731348e-03,  2.07766443e-02,  1.13275333e-02,  1.46335684e-02,\n",
      "       -1.81924462e-02, -2.56988458e-02, -1.42876269e-02,  6.99003879e-04,\n",
      "        7.56640136e-03, -8.54428862e-03, -2.14212779e-03,  8.32456276e-03,\n",
      "        2.45232463e-02, -1.35139663e-02, -7.59332152e-03,  7.47184698e-03,\n",
      "        2.12592997e-02,  3.13519966e-02,  1.57012755e-02,  1.42176248e-02,\n",
      "       -2.05699563e-02,  1.27959661e-03, -2.73865735e-02, -7.94664967e-03,\n",
      "        4.95847091e-03, -2.32132313e-02,  2.44345291e-02,  1.59669810e-02,\n",
      "       -2.15057143e-02, -3.01401749e-02,  2.83561698e-03, -3.41508683e-02,\n",
      "       -6.66830931e-03, -3.59768080e-02,  8.47713700e-03, -5.01355305e-03,\n",
      "        1.03626272e-02,  1.77443407e-02, -3.38576850e-02,  2.28063450e-02,\n",
      "        7.66397193e-03, -2.48853115e-02, -1.37472212e-02, -1.30176501e-02,\n",
      "        6.49362244e-04, -2.84162004e-02, -1.07545890e-02, -3.65501978e-02,\n",
      "        9.35222581e-04,  2.74070386e-02,  3.13086653e-02,  6.20850975e-03,\n",
      "        7.99530968e-03,  2.53329810e-02, -1.24083687e-02, -2.29809176e-02,\n",
      "        1.29077075e-02, -2.49137804e-02, -2.07009133e-02,  5.86353196e-04,\n",
      "       -1.99803407e-03, -1.15371952e-02,  9.68747847e-03,  4.41554356e-03,\n",
      "       -1.63738322e-02,  1.78183448e-02,  2.98827985e-02, -4.11146448e-04,\n",
      "        8.24496858e-03,  1.46938263e-02, -1.43622018e-02,  2.81950017e-02,\n",
      "       -2.03843598e-02,  1.51512587e-02, -1.11929556e-02,  9.85894443e-03,\n",
      "        2.20586177e-02, -1.88593986e-02,  1.65077552e-02, -5.13105886e-04,\n",
      "        7.38368453e-03, -4.52670269e-03, -3.65159595e-03, -5.57210743e-03,\n",
      "        7.74833551e-03,  1.58984773e-02,  2.18237671e-03, -2.29832124e-02,\n",
      "        2.03808074e-02,  1.13123521e-02,  2.88950566e-02,  9.59885679e-04])]"
     ]
    }
   ],
   "source": [
    "# Convert sentences into embeddings with trained model\n",
    "p_w2v_embedding = w2v_model.transform(positive_tokens).select(\"vectors\").rdd\\\n",
    "                    .map(lambda vector: np.reshape(vector, -1))\n",
    "p_w2v_embedding.take(1)"
   ]
  },
  {
   "cell_type": "markdown",
   "metadata": {},
   "source": [
    "#### 4.1.3 Create all posible sentence vector pairs"
   ]
  },
  {
   "cell_type": "code",
   "execution_count": 31,
   "metadata": {},
   "outputs": [
    {
     "data": {
      "application/vnd.jupyter.widget-view+json": {
       "model_id": "96aabeb3b1ae430f8b5d6b474a094840",
       "version_major": 2,
       "version_minor": 0
      },
      "text/plain": [
       "VBox()"
      ]
     },
     "metadata": {},
     "output_type": "display_data"
    },
    {
     "name": "stdout",
     "output_type": "stream",
     "text": [
      "+------+------+--------------------+--------------------+\n",
      "|index1|index0|              vector|            vector_a|\n",
      "+------+------+--------------------+--------------------+\n",
      "|  3835|  3612|[0.02099321743783...|[0.00902031800326...|\n",
      "|  6259|  2430|[0.01515886603322...|[0.03315434470557...|\n",
      "|  9351|  8204|[0.04008870945544...|[0.01479616293606...|\n",
      "|  6259|  3077|[0.03038003092321...|[0.03315434470557...|\n",
      "|  6722|  4118|[0.04488368514770...|[0.01928596779841...|\n",
      "+------+------+--------------------+--------------------+\n",
      "only showing top 5 rows"
     ]
    }
   ],
   "source": [
    "p_vector_pairs_stage4 = Create_vector_pairs(p_w2v_embedding).repartition(1000)\n",
    "p_vector_pairs_stage4.show(5)"
   ]
  },
  {
   "cell_type": "markdown",
   "metadata": {},
   "source": [
    "#### 4.1.4 Calculate cosine distances of each sentence vector pairs"
   ]
  },
  {
   "cell_type": "code",
   "execution_count": 32,
   "metadata": {},
   "outputs": [
    {
     "data": {
      "application/vnd.jupyter.widget-view+json": {
       "model_id": "6dce06117a5642b1aa9d6bab24a88a7d",
       "version_major": 2,
       "version_minor": 0
      },
      "text/plain": [
       "VBox()"
      ]
     },
     "metadata": {},
     "output_type": "display_data"
    },
    {
     "name": "stdout",
     "output_type": "stream",
     "text": [
      "[(4978, 6645, 1.1788256284138603), (3288, 7720, 1.1126417999652365), (3560, 8070, 0.4815487471868033), (5535, 7838, 0.6604533377275099), (2888, 5018, 0.6154258497284311)]"
     ]
    }
   ],
   "source": [
    "# Convert vector pairs into rdd format and calculate cosine distance using map function with user defined function \n",
    "p_distance_pairs_stage4 = p_vector_pairs_stage4.rdd.map(calculate_cosine_distance).repartition(1000)\n",
    "p_distance_pairs_stage4.take(5)"
   ]
  },
  {
   "cell_type": "markdown",
   "metadata": {},
   "source": [
    "#### 4.1.5 Calculate average distance of each sentence vector"
   ]
  },
  {
   "cell_type": "code",
   "execution_count": 33,
   "metadata": {},
   "outputs": [
    {
     "data": {
      "application/vnd.jupyter.widget-view+json": {
       "model_id": "a4bb9ddf58fe4905b2f4696d9c492ece",
       "version_major": 2,
       "version_minor": 0
      },
      "text/plain": [
       "VBox()"
      ]
     },
     "metadata": {},
     "output_type": "display_data"
    },
    {
     "name": "stdout",
     "output_type": "stream",
     "text": [
      "[(7776, 0.5529389196620226), (576, 0.7279303023526731), (8064, 0.7246439862766181), (2016, 0.7171658470750248), (3168, 0.5158682697053306)]"
     ]
    }
   ],
   "source": [
    "p_avg_distance_stage4 = Average_distance(p_distance_pairs_stage4)\n",
    "p_avg_distance_stage4.take(5)"
   ]
  },
  {
   "cell_type": "markdown",
   "metadata": {},
   "source": [
    "#### 4.1.6 Extract indexes of center point and top10 similar sentences based on average distances"
   ]
  },
  {
   "cell_type": "code",
   "execution_count": 34,
   "metadata": {},
   "outputs": [
    {
     "data": {
      "application/vnd.jupyter.widget-view+json": {
       "model_id": "7a738d47ae4c4a1894edf5932524f528",
       "version_major": 2,
       "version_minor": 0
      },
      "text/plain": [
       "VBox()"
      ]
     },
     "metadata": {},
     "output_type": "display_data"
    },
    {
     "name": "stdout",
     "output_type": "stream",
     "text": [
      "Index of center sentences:  5350\n",
      "Indexes of top10 similar sentences [2394, 4915, 6130, 3486, 915, 8694, 5770, 9243, 8246, 6344]"
     ]
    }
   ],
   "source": [
    "p_center_idx_stage4, p_top10_idx_stage4 = Center_Top10_Index(p_distance_pairs_stage4, p_avg_distance_stage4)\n",
    "print('Index of center sentences: ', p_center_idx_stage4)\n",
    "print('Indexes of top10 similar sentences', p_top10_idx_stage4)"
   ]
  },
  {
   "cell_type": "markdown",
   "metadata": {},
   "source": [
    "#### 4.1.7 Extract review sentences and corresponding review id based on index"
   ]
  },
  {
   "cell_type": "code",
   "execution_count": 35,
   "metadata": {},
   "outputs": [
    {
     "data": {
      "application/vnd.jupyter.widget-view+json": {
       "model_id": "91cf48639ffe42b783a5e7cd5ecb7551",
       "version_major": 2,
       "version_minor": 0
      },
      "text/plain": [
       "VBox()"
      ]
     },
     "metadata": {},
     "output_type": "display_data"
    }
   ],
   "source": [
    "# Convert positive data into rdd format and add indices\n",
    "p_rdd = positive_data_df.rdd.zipWithIndex().cache() \n",
    "p_rdd.count()\n",
    "# Select review id and sentences from all positive data based on indices.\n",
    "positive_center_stage4 = p_rdd.filter(lambda x:x[1] == p_center_idx_stage4).keys().collect()\n",
    "positive_similar_top10_stage4 = p_rdd.filter(lambda x:x[1] in p_top10_idx_stage4).keys()\\\n",
    "                                    .toDF([\"review_id\", \"review_sentence\"])"
   ]
  },
  {
   "cell_type": "markdown",
   "metadata": {},
   "source": [
    "#### 4.1.8 The results of positive reviews -Stage 4"
   ]
  },
  {
   "cell_type": "code",
   "execution_count": 38,
   "metadata": {
    "scrolled": true
   },
   "outputs": [
    {
     "data": {
      "application/vnd.jupyter.widget-view+json": {
       "model_id": "2e634503dc094cbfa0ca08bd838cf347",
       "version_major": 2,
       "version_minor": 0
      },
      "text/plain": [
       "VBox()"
      ]
     },
     "metadata": {},
     "output_type": "display_data"
    },
    {
     "name": "stdout",
     "output_type": "stream",
     "text": [
      "POSITIVE - center sentence: \n",
      " --review_id--  ----review_sentence----\n",
      "R1OKU7XPP54KCZ These are some truly talented artists of the punk rock genre.\n",
      "+--------------+--------------------+\n",
      "|     review_id|     review_sentence|\n",
      "+--------------+--------------------+\n",
      "|R1NC7QCQBST3UK|The prechorus was...|\n",
      "|R1TPOP45R0I93J|Good Charlotte is...|\n",
      "|R1OGG8CH4AXDIJ|it is really good...|\n",
      "|R2D9GJKVK42XDV|When I was feelin...|\n",
      "|R2Z83HAYSJ4UP5|Forget the image ...|\n",
      "|R37U2GX41AYFFX|Good Charlotte Ro...|\n",
      "|R1JB8P9ZKKKIPB|Id have to say i ...|\n",
      "|R1UPGK03N6GNUY|They have come so...|\n",
      "|R1RE7EIJ0T5I9W|As a very big fan...|\n",
      "| RW4HAE4HGJ69L|and even if you a...|\n",
      "+--------------+--------------------+"
     ]
    }
   ],
   "source": [
    "# print out the center sentence of positive review\n",
    "print(\"POSITIVE - center sentence: \\n --review_id--  ----review_sentence----\")\n",
    "for center in positive_center_stage4:\n",
    "    print(center[0], center[1])\n",
    "\n",
    "# print out top10 similar centences     \n",
    "positive_similar_top10_stage4.show(truncate=False)"
   ]
  },
  {
   "cell_type": "markdown",
   "metadata": {},
   "source": [
    "### 4.2 Negative Reviews"
   ]
  },
  {
   "cell_type": "markdown",
   "metadata": {},
   "source": [
    "#### 4.2.1 Use the negative data tokenized in the previous section."
   ]
  },
  {
   "cell_type": "markdown",
   "metadata": {},
   "source": [
    "#### 4.2.2 Convert review sentences into vectors using Word2Vec"
   ]
  },
  {
   "cell_type": "code",
   "execution_count": 39,
   "metadata": {
    "scrolled": true
   },
   "outputs": [
    {
     "data": {
      "application/vnd.jupyter.widget-view+json": {
       "model_id": "ea414d9e25264e0a9b1e4e550fc522b2",
       "version_major": 2,
       "version_minor": 0
      },
      "text/plain": [
       "VBox()"
      ]
     },
     "metadata": {},
     "output_type": "display_data"
    },
    {
     "name": "stdout",
     "output_type": "stream",
     "text": [
      "[array([-1.69599495e-02, -5.12491265e-02, -6.25911766e-04,  5.48528104e-02,\n",
      "       -1.54560875e-02,  8.14741037e-03,  8.03272026e-03, -1.66637256e-02,\n",
      "        6.99344116e-03, -9.05940033e-03, -1.15462499e-02, -6.10355093e-03,\n",
      "       -1.91547970e-02, -9.03689185e-03,  1.70491321e-02,  1.18451234e-02,\n",
      "       -1.05184469e-02,  1.66268921e-03,  2.80658697e-02,  2.02178253e-02,\n",
      "       -1.66754667e-02,  6.18930471e-03,  7.72561555e-03,  7.92322494e-03,\n",
      "       -1.51904402e-02,  1.89348883e-02, -2.87616234e-03,  7.76005142e-03,\n",
      "        9.91778072e-03,  3.19145278e-03, -5.06206801e-02,  3.76133726e-02,\n",
      "       -1.06819226e-02,  1.74676806e-02, -3.07303072e-02, -6.61912893e-03,\n",
      "       -2.54300962e-02,  2.47634992e-02,  8.48270437e-03,  1.11153115e-02,\n",
      "       -9.04286653e-03, -1.87829216e-02,  3.26201069e-02,  2.59971206e-02,\n",
      "       -2.69255582e-03,  8.84344340e-03,  1.02517667e-02,  1.11472048e-02,\n",
      "        3.12291499e-02, -2.00567253e-02,  2.61095933e-03, -1.92558724e-02,\n",
      "       -3.39948643e-03,  2.43105554e-02,  1.61930138e-03, -1.98293123e-02,\n",
      "        2.83955181e-02,  1.22683441e-03, -2.99914473e-02,  1.87706023e-02,\n",
      "       -9.00360858e-03, -3.77791675e-02,  8.52626674e-03, -9.38041965e-03,\n",
      "       -1.97680429e-02,  3.71334998e-02, -1.12977492e-02,  2.49316248e-03,\n",
      "        4.94016344e-03,  6.15771547e-02, -2.29957766e-02, -1.14612286e-02,\n",
      "        1.83378664e-03,  1.87349621e-03,  3.61587393e-03,  3.61356661e-02,\n",
      "       -2.06934479e-02,  3.90389446e-03,  2.78291410e-03,  2.36801227e-02,\n",
      "       -2.19187850e-02, -1.64496455e-02, -6.84577582e-03, -8.52423913e-03,\n",
      "        1.13746232e-03,  4.07138279e-02, -2.39005716e-02, -1.33895506e-03,\n",
      "       -3.04721786e-02,  7.33502248e-04, -9.52180141e-03, -2.49109160e-03,\n",
      "        2.79546021e-02, -2.69930558e-02,  1.21870513e-02, -2.25276449e-03,\n",
      "       -1.40129263e-02, -2.33431801e-02, -5.73156805e-04,  2.84302635e-02,\n",
      "       -2.52030522e-02,  3.85794798e-02, -5.47543466e-03, -2.50203050e-02,\n",
      "        1.95529829e-03,  2.31927051e-02, -1.65589987e-02,  7.00395045e-03,\n",
      "       -4.06747467e-03, -1.96475239e-02,  3.18161716e-02,  1.40499147e-02,\n",
      "       -1.34200935e-02, -6.98201065e-03, -1.57066574e-02, -3.38374325e-02,\n",
      "        1.65396469e-02, -2.81366671e-02,  6.74541355e-03,  5.82143266e-02,\n",
      "       -1.09557085e-02,  3.96452685e-03,  5.32107571e-03, -2.58408757e-02,\n",
      "        1.31256020e-02, -5.06851511e-02, -1.86033927e-02,  1.64975041e-02,\n",
      "        2.17781080e-02, -1.74144187e-03, -9.24768013e-03,  4.31495813e-02,\n",
      "        1.38221828e-02,  5.78739511e-03,  1.13030143e-02, -4.41961431e-03,\n",
      "        2.89774772e-02,  1.53585377e-03, -2.70256414e-03, -1.88426456e-02,\n",
      "       -1.95851474e-02,  2.22881963e-02, -1.75239838e-02,  2.70455700e-02,\n",
      "       -1.88755629e-02,  4.55608716e-02, -1.82570519e-02,  3.79337349e-02,\n",
      "       -1.66607173e-03,  2.46358118e-02, -1.20869248e-02, -1.85534175e-02,\n",
      "        6.58692540e-03,  3.60545125e-02, -1.50682693e-02,  2.78414630e-02,\n",
      "       -2.62344381e-02,  2.79532389e-02,  1.29972974e-02,  9.00293848e-03,\n",
      "        2.33657456e-04, -2.65426428e-02, -2.94692784e-02, -7.30043671e-03,\n",
      "        8.11731641e-03,  1.94885832e-02, -1.04448336e-03,  2.28033395e-02,\n",
      "        5.57471753e-03, -8.40336960e-03,  1.55581527e-02,  2.04482380e-02,\n",
      "        3.21994367e-02,  6.43836545e-03, -8.52604164e-04, -2.84256501e-02,\n",
      "        1.68434755e-02, -2.00172647e-02, -8.35359866e-03, -8.66072864e-03,\n",
      "        4.40690365e-02,  7.31614726e-03, -9.45667038e-04, -6.70487164e-03,\n",
      "        1.83084126e-02, -4.46113721e-02, -2.21104525e-02, -6.80797291e-03,\n",
      "        2.50902204e-02,  2.04811236e-02,  2.53545087e-02, -4.07104070e-02,\n",
      "       -1.98526218e-02, -3.16231260e-03,  1.52680674e-02, -4.12537904e-02,\n",
      "       -1.52805621e-02,  1.18533209e-02, -1.83532118e-02,  8.04026248e-03,\n",
      "       -2.60971420e-02,  1.63612327e-02, -2.20759963e-02, -5.89959982e-03,\n",
      "       -1.83989920e-02,  1.30251783e-02,  3.47416514e-02,  7.88350012e-03,\n",
      "        2.00524617e-02, -3.76705428e-03,  7.66075785e-03, -7.83516529e-04,\n",
      "       -8.16794752e-03,  1.86431212e-02, -6.48652215e-03, -5.38787683e-03,\n",
      "        2.17107635e-02,  1.09674456e-03,  1.35053191e-03, -1.38065943e-02,\n",
      "       -1.40972795e-02, -1.78956415e-02,  1.26892336e-02, -8.45691289e-03,\n",
      "        8.15566753e-03,  2.82530622e-02,  1.42711045e-02,  1.73541284e-03,\n",
      "       -2.73247328e-02, -9.81028829e-03, -5.40923647e-03,  3.49403646e-04,\n",
      "        3.93054459e-02, -3.53514634e-02,  1.35262180e-03, -8.98594696e-03,\n",
      "        3.70606086e-03,  4.74266075e-03,  4.13124430e-02, -7.09085471e-03,\n",
      "        2.46887760e-02, -3.25933416e-02, -6.21298429e-03,  2.89678937e-02,\n",
      "        2.46708584e-02,  1.26312936e-02, -1.26780894e-02,  4.52535087e-03,\n",
      "       -1.07827929e-02, -8.35605189e-03, -1.88980838e-02, -6.53801699e-05,\n",
      "       -6.13634974e-03, -5.01906453e-03,  1.11146530e-02, -1.01922995e-02,\n",
      "        3.83067979e-03,  8.90038370e-03, -1.55957664e-02,  4.29988055e-04,\n",
      "        9.76682641e-06,  4.75150912e-02,  1.08283941e-02, -2.73661545e-02,\n",
      "        7.60161915e-03, -1.82978692e-02, -4.32040535e-02, -9.59501010e-03,\n",
      "       -4.36967725e-03, -2.37827878e-02,  2.62542104e-02,  1.99051573e-03,\n",
      "        8.37441993e-03,  1.11555066e-02,  2.62725514e-02,  5.32329346e-03,\n",
      "       -3.15408564e-04,  1.46914124e-02, -1.50874358e-02,  2.61719444e-03,\n",
      "       -7.34094717e-04,  1.37334476e-02, -3.85497273e-02,  1.86868949e-02,\n",
      "        7.21904427e-03, -8.64651809e-03,  3.10515755e-02,  5.59241838e-02,\n",
      "        3.97252273e-02,  4.26140193e-03,  1.37043998e-02,  2.49059535e-03,\n",
      "        2.17215179e-02,  3.94460115e-03, -2.74024216e-02, -3.46088667e-02,\n",
      "       -8.02737486e-03,  1.67094934e-02,  4.72648905e-02,  9.69543736e-03])]"
     ]
    }
   ],
   "source": [
    "# Convert sentences into embeddings with trained model\n",
    "n_w2v_embedding = w2v_model.transform(negative_tokens).select(\"vectors\").rdd\\\n",
    "                    .map(lambda vector: np.reshape(vector, -1)).repartition(1000)\n",
    "n_w2v_embedding.take(1)"
   ]
  },
  {
   "cell_type": "markdown",
   "metadata": {},
   "source": [
    "#### 4.2.3 Create all posible sentence vector pairs"
   ]
  },
  {
   "cell_type": "code",
   "execution_count": 40,
   "metadata": {},
   "outputs": [
    {
     "data": {
      "application/vnd.jupyter.widget-view+json": {
       "model_id": "aeebd99793554b118322b62f816fc33b",
       "version_major": 2,
       "version_minor": 0
      },
      "text/plain": [
       "VBox()"
      ]
     },
     "metadata": {},
     "output_type": "display_data"
    },
    {
     "name": "stdout",
     "output_type": "stream",
     "text": [
      "+------+------+--------------------+--------------------+\n",
      "|index1|index0|              vector|            vector_a|\n",
      "+------+------+--------------------+--------------------+\n",
      "|  1444|   629|[0.03841874026693...|[0.03723155241459...|\n",
      "|  1444|  1078|[-0.0279344741332...|[0.03723155241459...|\n",
      "|   884|   489|[-0.0330888023599...|[-0.0301497410317...|\n",
      "|   520|   136|[0.01623912721333...|[0.02871226106071...|\n",
      "|  2984|   877|[-0.0122688690475...|[0.02366009080672...|\n",
      "+------+------+--------------------+--------------------+\n",
      "only showing top 5 rows"
     ]
    }
   ],
   "source": [
    "n_vector_pairs_stage4 = Create_vector_pairs(n_w2v_embedding).repartition(1000)\n",
    "n_vector_pairs_stage4.show(5)"
   ]
  },
  {
   "cell_type": "markdown",
   "metadata": {},
   "source": [
    "#### 4.2.4 Calculate cosine distances of each sentence vector pairs"
   ]
  },
  {
   "cell_type": "code",
   "execution_count": 41,
   "metadata": {},
   "outputs": [
    {
     "data": {
      "application/vnd.jupyter.widget-view+json": {
       "model_id": "c67c7a6cdee64464902bb8a4068dbdf1",
       "version_major": 2,
       "version_minor": 0
      },
      "text/plain": [
       "VBox()"
      ]
     },
     "metadata": {},
     "output_type": "display_data"
    },
    {
     "name": "stdout",
     "output_type": "stream",
     "text": [
      "[(1469, 2756, 0.5633809421939431), (1682, 2652, 0.3888757253101396), (837, 2594, 0.3687945195999507), (1467, 1706, 0.5388735899180961), (182, 2435, 0.810293379594003)]"
     ]
    }
   ],
   "source": [
    "# Convert vector pairs into rdd format and calculate cosine distance using map function with user defined function \n",
    "n_distance_pairs_stage4 = n_vector_pairs_stage4.rdd.map(calculate_cosine_distance).repartition(1000)\n",
    "n_distance_pairs_stage4.take(5)"
   ]
  },
  {
   "cell_type": "markdown",
   "metadata": {},
   "source": [
    "#### 4.2.5 Calculate average distance of each sentence vector"
   ]
  },
  {
   "cell_type": "code",
   "execution_count": 42,
   "metadata": {},
   "outputs": [
    {
     "data": {
      "application/vnd.jupyter.widget-view+json": {
       "model_id": "6c8ace2e14ad42538abf6e2ec7a49730",
       "version_major": 2,
       "version_minor": 0
      },
      "text/plain": [
       "VBox()"
      ]
     },
     "metadata": {},
     "output_type": "display_data"
    },
    {
     "name": "stdout",
     "output_type": "stream",
     "text": [
      "[(1091, 0.4415327604587037), (2819, 0.7159338492188829), (515, 0.7690280451760207), (227, 0.472166127970975), (2531, 0.5836842320410964)]"
     ]
    }
   ],
   "source": [
    "n_avg_distance_stage4 = Average_distance(n_distance_pairs_stage4).repartition(1000)\n",
    "n_avg_distance_stage4.take(5)"
   ]
  },
  {
   "cell_type": "markdown",
   "metadata": {},
   "source": [
    "#### 4.2.6 Extract indexes of center point and top10 similar sentences based on average distances"
   ]
  },
  {
   "cell_type": "code",
   "execution_count": 43,
   "metadata": {},
   "outputs": [
    {
     "data": {
      "application/vnd.jupyter.widget-view+json": {
       "model_id": "a5fe61d1fe8d402389f57b6f1070b24c",
       "version_major": 2,
       "version_minor": 0
      },
      "text/plain": [
       "VBox()"
      ]
     },
     "metadata": {},
     "output_type": "display_data"
    },
    {
     "name": "stdout",
     "output_type": "stream",
     "text": [
      "Index of center sentences:  1140\n",
      "Indexes of top10 similar sentences [212, 1888, 1818, 726, 959, 2835, 1819, 2548, 1323, 3003]"
     ]
    }
   ],
   "source": [
    "n_center_idx_stage4, n_top10_idx_stage4 = Center_Top10_Index(n_distance_pairs_stage4, n_avg_distance_stage4)\n",
    "print('Index of center sentences: ', n_center_idx_stage4)\n",
    "print('Indexes of top10 similar sentences', n_top10_idx_stage4)"
   ]
  },
  {
   "cell_type": "markdown",
   "metadata": {},
   "source": [
    "#### 4.2.7 Extract review sentences and corresponding review id based on index"
   ]
  },
  {
   "cell_type": "code",
   "execution_count": 44,
   "metadata": {},
   "outputs": [
    {
     "data": {
      "application/vnd.jupyter.widget-view+json": {
       "model_id": "181765fd86964945b1e01a7168c2b5c0",
       "version_major": 2,
       "version_minor": 0
      },
      "text/plain": [
       "VBox()"
      ]
     },
     "metadata": {},
     "output_type": "display_data"
    }
   ],
   "source": [
    "# Convert positive data into rdd format and add indices\n",
    "n_rdd = negative_data_df.rdd.zipWithIndex().cache() \n",
    "\n",
    "# Select review id and sentences from all positive data based on indices.\n",
    "negative_center_stage4 = n_rdd.filter(lambda x:x[1] == n_center_idx_stage4).keys().collect()\n",
    "negative_similar_top10_stage4 = n_rdd.filter(lambda x:x[1] in n_top10_idx_stage4).keys()\\\n",
    "                                    .toDF([\"review_id\", \"review_sentence\"])"
   ]
  },
  {
   "cell_type": "markdown",
   "metadata": {},
   "source": [
    "#### 4.2.8 The results of negative reviews -Stage 4"
   ]
  },
  {
   "cell_type": "code",
   "execution_count": 46,
   "metadata": {
    "scrolled": true
   },
   "outputs": [
    {
     "data": {
      "application/vnd.jupyter.widget-view+json": {
       "model_id": "0bd9e946b781428ca898f0e7e3059644",
       "version_major": 2,
       "version_minor": 0
      },
      "text/plain": [
       "VBox()"
      ]
     },
     "metadata": {},
     "output_type": "display_data"
    },
    {
     "name": "stdout",
     "output_type": "stream",
     "text": [
      "NEGATIVE - center sentence: \n",
      " --review_id--  ----review_sentence----\n",
      "R25XBVBWHQ5Y2Y I dont care how punk they supposedly look I dont define myself by the way I dress or the music I listen to although others obsess over it, I dont care if they SAID theyre punk or not, thats irrelevant, its the fact that they get raving reviews for lyrics shallower than a hot tub and music that has no emotional substance to it and in which the guitars are twodimensional if they play them at all.BRWhat this band needs to do to be any goodBR Lose the corny name bands named after someones mothers name isnt the in thingBR Take instrument playing BR Learn that theres more than one chord or riff possible to play on the guitarBR Lose the egotistical attitude and stop making their fans so narrowminded musicallyBR Write some lyrics with depthUntil then, all this deserves is one star, because thats the lowest rating I can give.Try these rock albums for some good musicNumetalgeneral rockBRFlaw  Endangered SpeciesBRStaind   Shades of GreyBRFinger Eleven  Finger ElevenBRSevendust  SeasonsBRHeavy metalBRKillswitch Engage  Alive Or Just Breathing?\n",
      "+--------------+--------------------+\n",
      "|     review_id|     review_sentence|\n",
      "+--------------+--------------------+\n",
      "| R2KARIGZDAS3D| I dont even like...|\n",
      "| RPZ2T0MH3AAXJ|Didnt matter that...|\n",
      "| RVDTHDQ8R551F|I love the fact t...|\n",
      "|R34EYTYWCR0SBL|But, I still know...|\n",
      "| RV9TLI1TKAOYP|I play music and ...|\n",
      "| RV9TLI1TKAOYP|They have made th...|\n",
      "|R2LHFJPMY1YKQF|Even if they got ...|\n",
      "|R234QAZJKINCA2|Anyone that under...|\n",
      "|R26O1H76RPNJLL|They delve into r...|\n",
      "|R1RMNAE14143TN|Basically, the on...|\n",
      "+--------------+--------------------+"
     ]
    }
   ],
   "source": [
    "# print out the center sentence of negative review\n",
    "print(\"NEGATIVE - center sentence: \\n --review_id--  ----review_sentence----\")\n",
    "for center in negative_center_stage4:\n",
    "    print(center[0], center[1])\n",
    "\n",
    "# print out top10 similar centences     \n",
    "negative_similar_top10_stage4.show()"
   ]
  }
 ],
 "metadata": {
  "kernelspec": {
   "display_name": "Python 3",
   "language": "python",
   "name": "python3"
  },
  "language_info": {
   "codemirror_mode": {
    "name": "ipython",
    "version": 3
   },
   "file_extension": ".py",
   "mimetype": "text/x-python",
   "name": "python",
   "nbconvert_exporter": "python",
   "pygments_lexer": "ipython3",
   "version": "3.6.8"
  }
 },
 "nbformat": 4,
 "nbformat_minor": 2
}
